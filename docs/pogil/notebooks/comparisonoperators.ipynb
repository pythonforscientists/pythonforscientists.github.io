{
 "cells": [
  {
   "cell_type": "markdown",
   "id": "3565e4d3",
   "metadata": {},
   "source": [
    "# POGIL 6.1 - Comparison Operators\n",
    "\n",
    "## Python for Scientists"
   ]
  },
  {
   "cell_type": "markdown",
   "id": "8b44ac26",
   "metadata": {},
   "source": [
    "### Content Learning Objectives"
   ]
  },
  {
   "cell_type": "markdown",
   "id": "71097403",
   "metadata": {},
   "source": [
    " After completing this activity, students should be able to:\n",
    " \n",
    "- Describe what a boolean expression is and what it is used for\n",
    "- Write a boolean expression"
   ]
  },
  {
   "cell_type": "markdown",
   "id": "55e76d52",
   "metadata": {},
   "source": [
    "### Process Skill Goals"
   ]
  },
  {
   "cell_type": "markdown",
   "id": "d933441f",
   "metadata": {},
   "source": [
    "*During this activity, you should make progress toward:*\n",
    "\n",
    "- Leveraging prior knowledge and experience of other students"
   ]
  },
  {
   "cell_type": "markdown",
   "metadata": {
    "id": "SopCu1pkYmdt"
   },
   "source": [
    "Computers make decisions based on logic. That is, if some condition is met, do something, otherwise, do something else. In this set of POGILs, we'll be learning how to use conditions to our advantage to control our programs."
   ]
  },
  {
   "cell_type": "markdown",
   "metadata": {
    "id": "cEf756qSZOaM"
   },
   "source": [
    "### Content Overview"
   ]
  },
  {
   "cell_type": "markdown",
   "metadata": {
    "id": "gSzYePLRZTYQ"
   },
   "source": [
    "In Python, a comparison (e.g., `100 < 200`) will yield a Boolean value of either `True` or `False`. Most data types, including `int`s, `float`s, `str`ings, `list`s, and `tuple`s can be compared using the following operators:\n",
    "\n",
    "| Operator | Meaning                  |\n",
    "|----------|--------------------------|\n",
    "| <        | less than                |\n",
    "| >        | greater than             |\n",
    "| <=       | less than or equal to    |\n",
    "| >=       | greater than or equal to |\n",
    "| ==       | equal to                 |\n",
    "| !=       | not equal to             |\n",
    "\n",
    "*Hint: This is the introduction of another data type in Python, the `bool`ean variable. A boolean variable can hold one bit of data: 1 (true) or 0 (false). You'll run across the term `boolean` quite a bit, and in different contexts. Be careful to differentiate the different kinds of booleans that get used.*\n",
    "\n",
    "*For example:*\n",
    "\n",
    "- *A boolean variable: a variable that holds either a 1 or a 0, indicated by `True` or `False`*\n",
    "- *A boolean operator: used to compare two values or variables*\n",
    "- *A boolean expressions: something used to test a condition, such as in an `if`/`elif` set of statements*\n",
    "- *A boolean expression with a boolean variable: passing in a boolean variable into a boolean expression*"
   ]
  },
  {
   "cell_type": "markdown",
   "id": "790aa15c",
   "metadata": {},
   "source": [
    "## Section 1"
   ]
  },
  {
   "cell_type": "markdown",
   "metadata": {
    "id": "RAASPb3OazPJ"
   },
   "source": [
    "### Task 1"
   ]
  },
  {
   "cell_type": "markdown",
   "metadata": {
    "id": "JlEcJ77fa0Wj"
   },
   "source": [
    "**Run each line of code provided. Do your best to determine what the code is doing in the provided text blocks. If the code returns an error, try to explain why the error is thrown.**"
   ]
  },
  {
   "cell_type": "code",
   "execution_count": null,
   "metadata": {
    "id": "R4sl81Q4bIkQ"
   },
   "outputs": [],
   "source": [
    "print(type(True))"
   ]
  },
  {
   "cell_type": "markdown",
   "metadata": {
    "id": "L6XF1lvubLsw"
   },
   "source": []
  },
  {
   "cell_type": "code",
   "execution_count": null,
   "metadata": {
    "id": "syJccaxrbL-i"
   },
   "outputs": [],
   "source": [
    "print(type(True))"
   ]
  },
  {
   "cell_type": "markdown",
   "metadata": {
    "id": "8Gk92ZFxbOWX"
   },
   "source": []
  },
  {
   "cell_type": "code",
   "execution_count": null,
   "metadata": {
    "id": "LYxrgDfFbOqG"
   },
   "outputs": [],
   "source": [
    "print(type(3 < 4))"
   ]
  },
  {
   "cell_type": "markdown",
   "metadata": {
    "id": "e0GPzlVbbQzG"
   },
   "source": []
  },
  {
   "cell_type": "code",
   "execution_count": null,
   "metadata": {
    "id": "z4cKseCnbRFC"
   },
   "outputs": [],
   "source": [
    "print(3 < 4)"
   ]
  },
  {
   "cell_type": "markdown",
   "metadata": {
    "id": "8GqveMTKbcJg"
   },
   "source": []
  },
  {
   "cell_type": "code",
   "execution_count": null,
   "metadata": {
    "id": "CdYZvb4Vbcyy"
   },
   "outputs": [],
   "source": [
    "three = 3\n",
    "four = 4"
   ]
  },
  {
   "cell_type": "markdown",
   "metadata": {
    "id": "mtM9iF0GbcE_"
   },
   "source": []
  },
  {
   "cell_type": "code",
   "execution_count": null,
   "metadata": {
    "id": "ZG-wMV7-bgo0"
   },
   "outputs": [],
   "source": [
    "print(three == four)"
   ]
  },
  {
   "cell_type": "markdown",
   "metadata": {
    "id": "AB1Auvl9blIG"
   },
   "source": []
  },
  {
   "cell_type": "code",
   "execution_count": null,
   "metadata": {
    "id": "p7al20jzblX6"
   },
   "outputs": [],
   "source": [
    "check = three > four\n",
    "print(check)"
   ]
  },
  {
   "cell_type": "markdown",
   "metadata": {
    "id": "2SrBrwnLbqsN"
   },
   "source": []
  },
  {
   "cell_type": "code",
   "execution_count": null,
   "metadata": {
    "id": "xY5mMKrHbrGx"
   },
   "outputs": [],
   "source": [
    "print(type(check))"
   ]
  },
  {
   "cell_type": "markdown",
   "metadata": {
    "id": "YbCTJiJwbthI"
   },
   "source": []
  },
  {
   "cell_type": "code",
   "execution_count": null,
   "metadata": {
    "id": "ROntQbZUbtvy"
   },
   "outputs": [],
   "source": [
    "print(three = four)"
   ]
  },
  {
   "cell_type": "markdown",
   "metadata": {
    "id": "CgccIfcPbvZd"
   },
   "source": []
  },
  {
   "cell_type": "code",
   "execution_count": null,
   "metadata": {
    "id": "hZQDHXJfbvsg"
   },
   "outputs": [],
   "source": [
    "three = four"
   ]
  },
  {
   "cell_type": "markdown",
   "metadata": {
    "id": "KcwZGQA6bznE"
   },
   "source": []
  },
  {
   "cell_type": "code",
   "execution_count": null,
   "metadata": {
    "id": "Kgzk4zUyb0RY"
   },
   "outputs": [],
   "source": [
    "print(three == four)"
   ]
  },
  {
   "cell_type": "markdown",
   "metadata": {
    "id": "yBXkzF32bzgV"
   },
   "source": []
  },
  {
   "cell_type": "markdown",
   "metadata": {
    "id": "yM5BvRqmb3DC"
   },
   "source": [
    "### Task 2"
   ]
  },
  {
   "cell_type": "markdown",
   "metadata": {
    "id": "ofhz_WPQb4iI"
   },
   "source": [
    "**What is the name of the data type for Boolean values?**"
   ]
  },
  {
   "cell_type": "markdown",
   "metadata": {
    "id": "MYrx7g67b8q6"
   },
   "source": []
  },
  {
   "cell_type": "markdown",
   "metadata": {
    "id": "YUcX34wxb9Y0"
   },
   "source": [
    "### Task 3"
   ]
  },
  {
   "cell_type": "markdown",
   "metadata": {
    "id": "mSBOhXc-b-ko"
   },
   "source": [
    "**Do the words `True` and `False` need to be capitalized? Justify your answer by typing some code in the provided code block and commenting which lines are syntactically valid and which are not.**"
   ]
  },
  {
   "cell_type": "markdown",
   "metadata": {
    "id": "TUX6FIwxcLTM"
   },
   "source": []
  },
  {
   "cell_type": "code",
   "execution_count": null,
   "metadata": {
    "id": "nGYyippOcLkG"
   },
   "outputs": [],
   "source": [
    "# Justify your answer here.\n"
   ]
  },
  {
   "cell_type": "markdown",
   "metadata": {
    "id": "1vkjmpk8cM7k"
   },
   "source": [
    "### Task 4"
   ]
  },
  {
   "cell_type": "markdown",
   "metadata": {
    "id": "3lFcpF_KcOGW"
   },
   "source": [
    "**For each of the following terms, identify examples from Task 1.**"
   ]
  },
  {
   "cell_type": "markdown",
   "metadata": {
    "id": "vDox79-ccT9F"
   },
   "source": [
    "**Boolean variables:**"
   ]
  },
  {
   "cell_type": "markdown",
   "metadata": {
    "id": "f-vOrBD8cWEJ"
   },
   "source": []
  },
  {
   "cell_type": "markdown",
   "metadata": {
    "id": "015yaP55cWWB"
   },
   "source": [
    "**Boolean operators:**"
   ]
  },
  {
   "cell_type": "markdown",
   "metadata": {
    "id": "F2SuRsYwckSc"
   },
   "source": []
  },
  {
   "cell_type": "markdown",
   "metadata": {
    "id": "HCsiApNnckhj"
   },
   "source": [
    "**Boolean expressions:**"
   ]
  },
  {
   "cell_type": "markdown",
   "metadata": {
    "id": "G2vNWqp-cmod"
   },
   "source": []
  },
  {
   "cell_type": "markdown",
   "metadata": {
    "id": "95zLCBBNcnA6"
   },
   "source": [
    "### Task 5"
   ]
  },
  {
   "cell_type": "markdown",
   "metadata": {
    "id": "FkvZ_bbNcoB5"
   },
   "source": [
    "**Explain why the same expression `three == four` had two different results in Task 1.**"
   ]
  },
  {
   "cell_type": "markdown",
   "metadata": {
    "id": "DhbDEZ_QcsQq"
   },
   "source": []
  },
  {
   "cell_type": "markdown",
   "metadata": {
    "id": "uH1jYYeLcsgH"
   },
   "source": [
    "### Task 6"
   ]
  },
  {
   "cell_type": "markdown",
   "metadata": {
    "id": "W18aLyShctyD"
   },
   "source": [
    "**What is the difference between the `=` operator and the `==` operator (if any)?**"
   ]
  },
  {
   "cell_type": "markdown",
   "metadata": {
    "id": "fSZJ8UjJcy4f"
   },
   "source": []
  },
  {
   "cell_type": "markdown",
   "metadata": {
    "id": "u2SPvu3XczMP"
   },
   "source": [
    "### Task 7"
   ]
  },
  {
   "cell_type": "markdown",
   "metadata": {
    "id": "rscuKC02c1CN"
   },
   "source": [
    "**Write and execute a Boolean expression that uses the `!=` operator and evaluates to `False`. Enclose your expression in a `print()` function so that it prints the `False` out.**"
   ]
  },
  {
   "cell_type": "code",
   "execution_count": null,
   "metadata": {
    "id": "FlGGpn0idEiv"
   },
   "outputs": [],
   "source": []
  },
  {
   "cell_type": "markdown",
   "metadata": {
    "id": "u2SPvu3czMP"
   },
   "source": [
    "## Section 2"
   ]
  },
  {
   "cell_type": "markdown",
   "metadata": {
    "id": "OvUxHtrOjMGj"
   },
   "source": [
    "Expressions may include Boolean operators to implement basic logic. If all three operators appear in the same expression, Python will evaluate the `not` first, then `and`, and finally `or`. If there are multiple of the same operator, then they are evaluated from left to right."
   ]
  },
  {
   "cell_type": "markdown",
   "metadata": {
    "id": "8yCqePNCjYCB"
   },
   "source": [
    "### Task 1"
   ]
  },
  {
   "cell_type": "markdown",
   "metadata": {
    "id": "vrRyDnTJjeLM"
   },
   "source": [
    "**Using the below code blocks, what data type is the *result* of `a < b`? What data type is the result of `a < b and b < c`?**\n",
    "\n",
    "**Assume: `a = 3`, `b = 4`, and `c = 5`. You probably need to declare and assign these variables.**"
   ]
  },
  {
   "cell_type": "code",
   "execution_count": null,
   "metadata": {
    "id": "tf67RdzCjnSf"
   },
   "outputs": [],
   "source": []
  },
  {
   "cell_type": "markdown",
   "metadata": {
    "id": "3BgywNGljpLT"
   },
   "source": []
  },
  {
   "cell_type": "markdown",
   "metadata": {
    "id": "gM8gSla6jpum"
   },
   "source": [
    "### Task 2"
   ]
  },
  {
   "cell_type": "markdown",
   "metadata": {
    "id": "Jf3Mophpjq6S"
   },
   "source": [
    "**Without running any code, what do you think the output of each of these print statements will be?**"
   ]
  },
  {
   "cell_type": "markdown",
   "metadata": {
    "id": "0qYiCMIBjzfU"
   },
   "source": [
    "```python\n",
    "print(a < b and b < c)\n",
    "```"
   ]
  },
  {
   "cell_type": "markdown",
   "metadata": {
    "id": "61ep2sLDj2tS"
   },
   "source": []
  },
  {
   "cell_type": "markdown",
   "metadata": {
    "id": "ECmHmil8j3Li"
   },
   "source": [
    "```python\n",
    "print(a < b or b < c)\n",
    "```"
   ]
  },
  {
   "cell_type": "markdown",
   "metadata": {
    "id": "oKa_2xJUkHww"
   },
   "source": []
  },
  {
   "cell_type": "markdown",
   "metadata": {
    "id": "2I39hpkKkIEC"
   },
   "source": [
    "```python\n",
    "print(a < b and b > c)\n",
    "```"
   ]
  },
  {
   "cell_type": "markdown",
   "metadata": {
    "id": "1zw0T9BRkLfA"
   },
   "source": []
  },
  {
   "cell_type": "markdown",
   "metadata": {
    "id": "oZPoighlkMMM"
   },
   "source": [
    "```python\n",
    "print(a < b or b > c)\n",
    "```"
   ]
  },
  {
   "cell_type": "markdown",
   "metadata": {
    "id": "c0bdlWb5kPhM"
   },
   "source": []
  },
  {
   "cell_type": "markdown",
   "metadata": {
    "id": "EfOTycBzkP55"
   },
   "source": [
    "```python\n",
    "print(not a < b)\n",
    "```"
   ]
  },
  {
   "cell_type": "markdown",
   "metadata": {
    "id": "jqBKhbGDkSms"
   },
   "source": []
  },
  {
   "cell_type": "markdown",
   "metadata": {
    "id": "iVj_tykAkTJo"
   },
   "source": [
    "```python\n",
    "print(a > b or not a > c and b > c)\n",
    "```"
   ]
  },
  {
   "cell_type": "markdown",
   "metadata": {
    "id": "5zDXFoPAkZ13"
   },
   "source": []
  },
  {
   "cell_type": "markdown",
   "metadata": {
    "id": "Hj8p3pSNkayM"
   },
   "source": [
    "### Task 3"
   ]
  },
  {
   "cell_type": "markdown",
   "metadata": {
    "id": "cJrnaPz4kdPk"
   },
   "source": [
    "**Using the provided code blocks with the pre-filled code from above, determine whether your answers were right or not. If you got the answer right above, then write \"Right!\", and if you got the answer wrong, explain why you think the code returned what it did.** "
   ]
  },
  {
   "cell_type": "code",
   "execution_count": null,
   "metadata": {
    "id": "x9GTLQ0RkxKy"
   },
   "outputs": [],
   "source": [
    "print(a < b and b < c)"
   ]
  },
  {
   "cell_type": "markdown",
   "metadata": {
    "id": "vfb7GLMnkzZp"
   },
   "source": []
  },
  {
   "cell_type": "code",
   "execution_count": null,
   "metadata": {
    "id": "I9zZ7l-Nkz5T"
   },
   "outputs": [],
   "source": [
    "print(a < b or b < c)"
   ]
  },
  {
   "cell_type": "markdown",
   "metadata": {
    "id": "qUs4twI0k12o"
   },
   "source": []
  },
  {
   "cell_type": "code",
   "execution_count": null,
   "metadata": {
    "id": "2wpX4hBZk2QR"
   },
   "outputs": [],
   "source": [
    "print(a < b and b > c)"
   ]
  },
  {
   "cell_type": "markdown",
   "metadata": {
    "id": "wTlP0awUk3yp"
   },
   "source": []
  },
  {
   "cell_type": "code",
   "execution_count": null,
   "metadata": {
    "id": "-LPx2LX6k4IF"
   },
   "outputs": [],
   "source": [
    "print(a < b or b > c)"
   ]
  },
  {
   "cell_type": "markdown",
   "metadata": {
    "id": "nNr8PKd5k55N"
   },
   "source": []
  },
  {
   "cell_type": "code",
   "execution_count": null,
   "metadata": {
    "id": "jqd5vA7_k6WF"
   },
   "outputs": [],
   "source": [
    "print(not a < b)"
   ]
  },
  {
   "cell_type": "markdown",
   "metadata": {
    "id": "htXr4uMZk7-H"
   },
   "source": []
  },
  {
   "cell_type": "code",
   "execution_count": null,
   "metadata": {
    "id": "LUGcsWSxk8U9"
   },
   "outputs": [],
   "source": [
    "print(a > b or not a > c and b > c)"
   ]
  },
  {
   "cell_type": "markdown",
   "metadata": {
    "id": "JjvaNLRwk_Md"
   },
   "source": []
  },
  {
   "cell_type": "markdown",
   "metadata": {
    "id": "K0HcDBDflAGS"
   },
   "source": [
    "### Task 4"
   ]
  },
  {
   "cell_type": "markdown",
   "metadata": {
    "id": "0e6WoCpulBbN"
   },
   "source": [
    "**Based on the variables in Task 3, what is the value of `a < b`? What is the value of `b < c`?**"
   ]
  },
  {
   "cell_type": "markdown",
   "metadata": {
    "id": "3qK3hc6elJDn"
   },
   "source": []
  },
  {
   "cell_type": "markdown",
   "metadata": {
    "id": "QNENK2-5lKy3"
   },
   "source": [
    "### Task 5"
   ]
  },
  {
   "cell_type": "markdown",
   "metadata": {
    "id": "JSMsUTxUlMFb"
   },
   "source": [
    "**If two `True` boolean expressions are compared using the `and` operator, what is the result boolean value?**"
   ]
  },
  {
   "cell_type": "markdown",
   "metadata": {
    "id": "2gje6boblR8b"
   },
   "source": []
  },
  {
   "cell_type": "markdown",
   "metadata": {
    "id": "UxOzrOEglSZ3"
   },
   "source": [
    "### Task 6"
   ]
  },
  {
   "cell_type": "markdown",
   "metadata": {
    "id": "O1c9s0fvlUBf"
   },
   "source": [
    "**Using the variables defined in Task 2, write an expression that will compare two `False` boolean expressions using the `or` operator. Enclose your expression in a `print()` function and execute it below.**"
   ]
  },
  {
   "cell_type": "code",
   "execution_count": null,
   "metadata": {
    "id": "d0CGIL77li7E"
   },
   "outputs": [],
   "source": []
  },
  {
   "cell_type": "markdown",
   "metadata": {
    "id": "Uu9AKSISljXV"
   },
   "source": [
    "### Task 7"
   ]
  },
  {
   "cell_type": "markdown",
   "metadata": {
    "id": "3zDwXJFJllFZ"
   },
   "source": [
    "**Assuming `P` and `Q` each represent a boolean expression that evaluates to the boolean value indicated, determine what the expected value is for each combination of operators.**"
   ]
  },
  {
   "cell_type": "markdown",
   "metadata": {
    "id": "YEINSa7Rl3o8"
   },
   "source": [
    "**If:**\n",
    "\n",
    "```python\n",
    "P = False\n",
    "Q = False\n",
    "```\n",
    "\n",
    "**What is `P and Q`? What is `P or Q`?**"
   ]
  },
  {
   "cell_type": "markdown",
   "metadata": {
    "id": "M_h9Ia-TmBB2"
   },
   "source": []
  },
  {
   "cell_type": "markdown",
   "metadata": {
    "id": "p3i3rqG1mBUg"
   },
   "source": [
    "**If:**\n",
    "\n",
    "```python\n",
    "P = False\n",
    "Q = True\n",
    "```\n",
    "\n",
    "**What is `P and Q`? What is `P or Q`?**"
   ]
  },
  {
   "cell_type": "markdown",
   "metadata": {
    "id": "okfYvuqBmOwK"
   },
   "source": []
  },
  {
   "cell_type": "markdown",
   "metadata": {
    "id": "7hBJEIa6mPUM"
   },
   "source": [
    "**If:**\n",
    "\n",
    "```python\n",
    "P = True\n",
    "Q = False\n",
    "```\n",
    "\n",
    "**What is `P and Q`? What is `P or Q`?**"
   ]
  },
  {
   "cell_type": "markdown",
   "metadata": {
    "id": "-pLwYJMemWxg"
   },
   "source": []
  },
  {
   "cell_type": "markdown",
   "metadata": {
    "id": "3UNrnIOVmXHO"
   },
   "source": [
    "**If:**\n",
    "\n",
    "```python\n",
    "P = True\n",
    "Q = True\n",
    "```\n",
    "\n",
    "**What is `P and Q`? What is `P or Q`?**"
   ]
  },
  {
   "cell_type": "markdown",
   "metadata": {
    "id": "gPyJfOAlmeSr"
   },
   "source": []
  },
  {
   "cell_type": "markdown",
   "metadata": {
    "id": "E9FzRfEvmemi"
   },
   "source": [
    "### Task 8"
   ]
  },
  {
   "cell_type": "markdown",
   "metadata": {
    "id": "S9v6cn7BmiTw"
   },
   "source": [
    "**Assume that two boolean expressions are compared using the `and` operator. If the value of the first expression is `False`, is it necessary to determine the value of the second expression? Explain why or why not.**"
   ]
  },
  {
   "cell_type": "markdown",
   "metadata": {
    "id": "3ub7OMsrmq6H"
   },
   "source": []
  },
  {
   "cell_type": "markdown",
   "metadata": {
    "id": "R0KP-I34mrLu"
   },
   "source": [
    "**Assume that two boolean expressions are compared using the `or` operator. If the value of the first expression is `True`, is it necessary to determine the value of the second expression? Explain why or why not.**"
   ]
  },
  {
   "cell_type": "markdown",
   "metadata": {
    "id": "OGDEWhDmm3c1"
   },
   "source": []
  },
  {
   "cell_type": "markdown",
   "metadata": {
    "id": "EIKvmNLtm3yL"
   },
   "source": [
    "### Task 9"
   ]
  },
  {
   "cell_type": "markdown",
   "metadata": {
    "id": "BWTjTrpRm5HM"
   },
   "source": [
    "**Suppose you wanted to execute the statement `sum = x + y` only when both `x` and `y` are positive. Write a single boolean expression for the `if`-condition.**"
   ]
  },
  {
   "cell_type": "markdown",
   "metadata": {
    "id": "ADMQqKKfnGo9"
   },
   "source": []
  },
  {
   "cell_type": "markdown",
   "metadata": {
    "id": "eWCkfHOonX7f"
   },
   "source": [
    "**Rewrite your above expression using the `not` operator. Your answer should yield the same result as above, not the opposite. Describe in words what the new expression means.**"
   ]
  },
  {
   "cell_type": "markdown",
   "metadata": {
    "id": "GJqwdCkPngF7"
   },
   "source": []
  },
  {
   "cell_type": "markdown",
   "metadata": {
    "id": "_7T_EaIOngeP"
   },
   "source": [
    "**Suppose you wanted to execute the statement `sum = x + y` except when both `x` and `y` are positive. Write a single boolean expression for the `if`-condition. How is it different from your initial statement?**"
   ]
  },
  {
   "cell_type": "markdown",
   "metadata": {
    "id": "gm-jOdlhnvq1"
   },
   "source": []
  },
  {
   "cell_type": "markdown",
   "metadata": {
    "id": "T4HE5kIznxJN"
   },
   "source": [
    "---\n",
    "\n",
    "End of exercise."
   ]
  }
 ],
 "metadata": {
  "kernelspec": {
   "display_name": "Python 3 (ipykernel)",
   "language": "python",
   "name": "python3"
  },
  "language_info": {
   "codemirror_mode": {
    "name": "ipython",
    "version": 3
   },
   "file_extension": ".py",
   "mimetype": "text/x-python",
   "name": "python",
   "nbconvert_exporter": "python",
   "pygments_lexer": "ipython3",
   "version": "3.9.7"
  }
 },
 "nbformat": 4,
 "nbformat_minor": 5
}
