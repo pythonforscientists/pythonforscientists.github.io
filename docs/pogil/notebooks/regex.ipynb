{
 "cells": [
  {
   "cell_type": "markdown",
   "id": "3565e4d3",
   "metadata": {},
   "source": [
    "# POGIL 5.6.2 - Regular Expressions\n",
    "\n",
    "## Python for Scientists"
   ]
  },
  {
   "cell_type": "markdown",
   "id": "8b44ac26",
   "metadata": {},
   "source": [
    "### Content Learning Objectives"
   ]
  },
  {
   "cell_type": "markdown",
   "id": "71097403",
   "metadata": {},
   "source": [
    " After completing this activity, students should be able to:\n",
    " \n",
    "- Describe what a regular expression is\n",
    "- Understand basic wildcards and operators in a regular expression\n",
    "- Write regular expressions in Python\n",
    "- Choose an appropriate method for matching, splitting, or selecting text in Python using regular expressions"
   ]
  },
  {
   "cell_type": "markdown",
   "id": "55e76d52",
   "metadata": {},
   "source": [
    "### Process Skill Goals"
   ]
  },
  {
   "cell_type": "markdown",
   "id": "d933441f",
   "metadata": {},
   "source": [
    "*During this activity, you should make progress toward:*\n",
    "\n",
    "- Leveraging prior knowledge and experience of other students"
   ]
  },
  {
   "cell_type": "markdown",
   "id": "af815db3",
   "metadata": {},
   "source": []
  }
 ],
 "metadata": {
  "kernelspec": {
   "display_name": "Python 3 (ipykernel)",
   "language": "python",
   "name": "python3"
  },
  "language_info": {
   "codemirror_mode": {
    "name": "ipython",
    "version": 3
   },
   "file_extension": ".py",
   "mimetype": "text/x-python",
   "name": "python",
   "nbconvert_exporter": "python",
   "pygments_lexer": "ipython3",
   "version": "3.9.7"
  }
 },
 "nbformat": 4,
 "nbformat_minor": 5
}
