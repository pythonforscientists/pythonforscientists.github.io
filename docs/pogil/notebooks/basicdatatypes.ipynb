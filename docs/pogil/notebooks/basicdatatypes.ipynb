{
 "cells": [
  {
   "cell_type": "markdown",
   "id": "bbe8e750",
   "metadata": {},
   "source": [
    "# POGIL 3 - Basic Datatypes\n",
    "\n",
    "## Python for Scientists"
   ]
  },
  {
   "cell_type": "markdown",
   "id": "f0967574",
   "metadata": {},
   "source": [
    "Python has a wide variety of built-in types for storing anything from numbers to text, like `bool`eans, `int`s, `float`s, and `string`s. Each one of these types has advantages and disadvantages that you'll learn about here."
   ]
  },
  {
   "cell_type": "markdown",
   "id": "debc7e5d",
   "metadata": {},
   "source": [
    "### Content Learning Objectives"
   ]
  },
  {
   "cell_type": "markdown",
   "id": "3e9a2216",
   "metadata": {},
   "source": [
    "*After completing this activity, students should be able to:*\n",
    "\n",
    "- Identify strings, integers, floats, and booleans\n",
    "- Identify an appropriate type given the shape of a piece of data"
   ]
  },
  {
   "cell_type": "markdown",
   "id": "fdbe7d8c",
   "metadata": {},
   "source": [
    "### Process Skill Goals"
   ]
  },
  {
   "cell_type": "markdown",
   "id": "c1677351",
   "metadata": {},
   "source": [
    "*During the activity, students should make progress toward:*\n",
    "\n",
    "- Providing feedback on how well other team members are working"
   ]
  },
  {
   "cell_type": "markdown",
   "id": "c0293592",
   "metadata": {},
   "source": [
    "There are different types of data in a programming language, and they all serve different purposes. For example, consider how we might store a name versus how we might store the price of something. One of these is not like the other, but the ability to store this data is crucial for knowing how to manipulate data in Python.\n",
    "\n",
    "Python has four basic datatypes, and these datatypes allow you to store different kinds of data. The datatypes include the boolean, integer, floating-point value, and string.\n",
    "\n",
    "A boolean value can only store one state: `True` or `False`. It takes only one bit to store a boolean value, meaning that boolean values are very efficient. However, can you imagine trying to store the price of something in a boolean?\n",
    "\n",
    "Instead, we can use numbers. There are two types of numbers: integers and floats. We go over the difference between integers and floating-point numbers in chapter 3 of the Python for Scientists textbook.\n",
    "\n",
    "Lastly, if we want to store more than numbers, we need to use a string. A string is a sequence of characters. Again, we cover what a string is in chapter 3."
   ]
  },
  {
   "cell_type": "markdown",
   "id": "f8d2c34d",
   "metadata": {},
   "source": [
    "### Task 1"
   ]
  },
  {
   "cell_type": "markdown",
   "id": "f50f97c9",
   "metadata": {},
   "source": [
    "Python has a built-in function that returns the datatype of an object called `type()`. **Run the following code block and answer the questions.**"
   ]
  },
  {
   "cell_type": "code",
   "execution_count": null,
   "id": "542c6094",
   "metadata": {},
   "outputs": [],
   "source": [
    "type(\"Hello, World\")"
   ]
  },
  {
   "cell_type": "markdown",
   "id": "763b7c69",
   "metadata": {},
   "source": [
    "**What is the type of `\"Hello, World\"` as Python reports it?**"
   ]
  },
  {
   "cell_type": "markdown",
   "id": "15737886",
   "metadata": {},
   "source": []
  },
  {
   "cell_type": "markdown",
   "id": "0d7a7db5",
   "metadata": {},
   "source": [
    "**What about the following code block?**"
   ]
  },
  {
   "cell_type": "code",
   "execution_count": null,
   "id": "f6b4c25d",
   "metadata": {},
   "outputs": [],
   "source": [
    "type(4)"
   ]
  },
  {
   "cell_type": "markdown",
   "id": "f4b81e57",
   "metadata": {},
   "source": []
  },
  {
   "cell_type": "markdown",
   "id": "d43cc1cc",
   "metadata": {},
   "source": [
    "**Python has abbreviated the above types. What are the full names of these datatypes?**"
   ]
  },
  {
   "cell_type": "markdown",
   "id": "443699b8",
   "metadata": {},
   "source": []
  },
  {
   "cell_type": "markdown",
   "id": "7405570d",
   "metadata": {},
   "source": [
    "**Adjust the below line of code so that instead of `4`, you're looking at `4.0`. How does the type change? What did the type change from and to, and why?**"
   ]
  },
  {
   "cell_type": "code",
   "execution_count": null,
   "id": "a4bf8ab7",
   "metadata": {},
   "outputs": [],
   "source": [
    "type(4)"
   ]
  },
  {
   "cell_type": "markdown",
   "id": "40a255b3",
   "metadata": {},
   "source": []
  }
 ],
 "metadata": {
  "kernelspec": {
   "display_name": "Python 3 (ipykernel)",
   "language": "python",
   "name": "python3"
  },
  "language_info": {
   "codemirror_mode": {
    "name": "ipython",
    "version": 3
   },
   "file_extension": ".py",
   "mimetype": "text/x-python",
   "name": "python",
   "nbconvert_exporter": "python",
   "pygments_lexer": "ipython3",
   "version": "3.9.7"
  }
 },
 "nbformat": 4,
 "nbformat_minor": 5
}
