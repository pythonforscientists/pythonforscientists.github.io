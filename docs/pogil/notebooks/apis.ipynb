{
 "cells": [
  {
   "cell_type": "markdown",
   "id": "3565e4d3",
   "metadata": {},
   "source": [
    "# POGIL 11.3 - APIs\n",
    "\n",
    "## Python for Scientists"
   ]
  },
  {
   "cell_type": "markdown",
   "id": "8b44ac26",
   "metadata": {},
   "source": [
    "### Content Learning Objectives"
   ]
  },
  {
   "cell_type": "markdown",
   "id": "71097403",
   "metadata": {},
   "source": [
    " After completing this activity, students should be able to:\n",
    " \n",
    "- Describe what an API is\n",
    "- Identify the parts of an API response\n",
    "- Make an authentication-less API request using Python"
   ]
  },
  {
   "cell_type": "markdown",
   "id": "55e76d52",
   "metadata": {},
   "source": [
    "### Process Skill Goals"
   ]
  },
  {
   "cell_type": "markdown",
   "id": "d933441f",
   "metadata": {},
   "source": [
    "*During this activity, you should make progress toward:*\n",
    "\n",
    "- Leveraging prior knowledge and experience of other students"
   ]
  },
  {
   "cell_type": "markdown",
   "id": "af815db3",
   "metadata": {},
   "source": [
    "## Task 1"
   ]
  },
  {
   "cell_type": "markdown",
   "id": "320f7dd4",
   "metadata": {},
   "source": [
    "Begin by selecting an API in your POGIL group. All of the following APIs are open-access, meaning that they don't require any authentication. You aren't limited to just these APIs, but remember not all APIs are authentication-free.\n",
    "\n",
    "- [Dog Facts: https://dog-api.kinduff.com/api/facts](https://dog-api.kinduff.com/api/facts) - a random fact about dogs\n",
    "- [CoinStats: https://api.coinstats.app/public/v1/coins?skip=0&limit=5&currency=USD](https://api.coinstats.app/public/v1/coins?skip=0&limit=5&currency=USD) - the statistics for various cryptocurrencies\n",
    "- [DigitalOcean Status: https://status.digitalocean.com/api/v2/summary.json](https://status.digitalocean.com/api/v2/summary.json) - the status of DigitalOcean's online services\n",
    "- [Free Dictionary: https://api.dictionaryapi.dev/api/v2/entries/en/plant](https://api.dictionaryapi.dev/api/v2/entries/en/plant) - an English-language dictionary\n",
    "\n",
    "Which API will you be using for this POGIL?"
   ]
  },
  {
   "cell_type": "markdown",
   "id": "7db1a5f2",
   "metadata": {},
   "source": []
  },
  {
   "cell_type": "markdown",
   "id": "a4267e45",
   "metadata": {},
   "source": [
    "Open the API's documentation on your computer. This will give you information on how to use the API. You might have to do some searching for this information. Find the following information to guide your search."
   ]
  },
  {
   "cell_type": "markdown",
   "id": "01961ff5",
   "metadata": {},
   "source": [
    "What types of requests does your API support? Just `POST` requests, just `GET` requests, some other request type, or a combination of these?"
   ]
  },
  {
   "cell_type": "markdown",
   "id": "8c291239",
   "metadata": {},
   "source": []
  },
  {
   "cell_type": "markdown",
   "id": "7a8cffce",
   "metadata": {},
   "source": [
    "Search through your API's documentation. What is an endpoint?"
   ]
  },
  {
   "cell_type": "markdown",
   "id": "28a345f4",
   "metadata": {},
   "source": []
  },
  {
   "cell_type": "markdown",
   "id": "039c1f44",
   "metadata": {},
   "source": [
    "If your API supports GET requests, provide an example of one of these endpoints. What format is the data returned in? Some APIs return XML, while others return JSON. You might be able to choose what format the data is returned in, too (meaning that you can put multiple answers down here). If your API supports multiple return formats, are there any limitations to the type of data that can be returned in certain formats that would be available in others?\n",
    "\n",
    "(If your API doesn't support POST requests, mention that.)"
   ]
  },
  {
   "cell_type": "markdown",
   "id": "d24caa52",
   "metadata": {},
   "source": []
  },
  {
   "cell_type": "markdown",
   "id": "43c63214",
   "metadata": {},
   "source": [
    "If your API supports POST requests, provide an example of one of these endpoints. What format should the data be passed in as? Some APIs can only take JSON, while others take plaintext. You might also be able to pass in different formats of data and let the API figure out the format. If your API supports multiple input formats, are there any limitations to the data that can be passed in certain formats that would be available in others?"
   ]
  },
  {
   "cell_type": "markdown",
   "id": "61a4d5a8",
   "metadata": {},
   "source": []
  },
  {
   "cell_type": "markdown",
   "id": "7ffeb8c8",
   "metadata": {},
   "source": [
    "Make a `GET` request to one of the endpoints. Provide the code that you used to make the request here."
   ]
  },
  {
   "cell_type": "code",
   "execution_count": null,
   "id": "8b1e2350",
   "metadata": {},
   "outputs": [],
   "source": [
    "# Make your GET request here."
   ]
  },
  {
   "cell_type": "markdown",
   "id": "fe572200",
   "metadata": {},
   "source": [
    "What is the response?"
   ]
  },
  {
   "cell_type": "markdown",
   "id": "c2018a71",
   "metadata": {},
   "source": [
    "```\n",
    "Put your response in this code block.\n",
    "```"
   ]
  },
  {
   "cell_type": "markdown",
   "id": "08c35925",
   "metadata": {},
   "source": [
    "What format is the response made in?"
   ]
  },
  {
   "cell_type": "markdown",
   "id": "8426bac4",
   "metadata": {},
   "source": []
  }
 ],
 "metadata": {
  "kernelspec": {
   "display_name": "Python 3 (ipykernel)",
   "language": "python",
   "name": "python3"
  },
  "language_info": {
   "codemirror_mode": {
    "name": "ipython",
    "version": 3
   },
   "file_extension": ".py",
   "mimetype": "text/x-python",
   "name": "python",
   "nbconvert_exporter": "python",
   "pygments_lexer": "ipython3",
   "version": "3.10.2"
  }
 },
 "nbformat": 4,
 "nbformat_minor": 5
}
