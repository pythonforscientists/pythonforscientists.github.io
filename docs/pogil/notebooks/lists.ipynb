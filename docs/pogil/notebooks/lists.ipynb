{
 "cells": [
  {
   "cell_type": "markdown",
   "metadata": {
    "id": "Mf_Ub_nY93w8"
   },
   "source": [
    "# POGIL 5.1 - Lists\n",
    "\n",
    "## Python for Scientists"
   ]
  },
  {
   "cell_type": "markdown",
   "metadata": {
    "id": "tHqaWxdO9-gJ"
   },
   "source": [
    "Python has a wide variety of built-in types for storing anything from numbers to text, like `int`s, `float`s, and `string`s. There's also ways to store combinations of these simple data types in something called a data structure, like `list`s, `tuple`s, and `dict`s. Like the simple data types, each one of these data structures has disadvantages and advantages that you'll learn about here."
   ]
  },
  {
   "cell_type": "markdown",
   "metadata": {
    "id": "irLOwBN8-V5L"
   },
   "source": [
    "### Content Learning Objectives"
   ]
  },
  {
   "cell_type": "markdown",
   "metadata": {
    "id": "zhQTp7zW-ZBR"
   },
   "source": [
    "*After completing this activity, students should be able to:*\n",
    "\n",
    "- Identify a list\n",
    "- Understand how lists and other objects are indexed by default in Python\n",
    "- Refer to a list and its elements"
   ]
  },
  {
   "cell_type": "markdown",
   "metadata": {
    "id": "a38Cdkll-8aS"
   },
   "source": [
    "### Process Skill Goals"
   ]
  },
  {
   "cell_type": "markdown",
   "metadata": {
    "id": "KD6NoR_1--uq"
   },
   "source": [
    "*During the activity, students should make progress toward:*\n",
    "\n",
    "- Providing feedback on how well other team members are working"
   ]
  },
  {
   "cell_type": "markdown",
   "metadata": {
    "id": "7wxBJw3P_IQY"
   },
   "source": []
  },
  {
   "cell_type": "markdown",
   "metadata": {
    "id": "DwfiZ8bH_FI0"
   },
   "source": [
    "### Task 1"
   ]
  },
  {
   "cell_type": "markdown",
   "metadata": {
    "id": "y9e_rXMTANvd"
   },
   "source": [
    "**What is the index of the second element of the `primes` array presented above? What is the value at that index value?**"
   ]
  },
  {
   "cell_type": "markdown",
   "metadata": {
    "id": "uvUW0Z8MAUp9"
   },
   "source": []
  },
  {
   "cell_type": "markdown",
   "metadata": {
    "id": "Wrh2rrGuAU-A"
   },
   "source": [
    "### Task 2"
   ]
  },
  {
   "cell_type": "markdown",
   "metadata": {
    "id": "q3dA7E2cAW1d"
   },
   "source": [
    "**How does the index number compare to the position of the element? You can express your answer in English or in mathematical terms - either is acceptable.**\n",
    "\n",
    "*Jupyter Notebook Pro Tip: If you know how to write LaTeX code, you can write math by enclosing your math in two dollar signs, just like LaTeX's math mode.*\n",
    "\n",
    "<pre>\n",
    "$a = 2^{2} = 4$\n",
    "</pre>\n",
    "\n",
    "$a = 2^{2} = 4$"
   ]
  },
  {
   "cell_type": "markdown",
   "metadata": {
    "id": "BhXm-d0QAffZ"
   },
   "source": []
  },
  {
   "cell_type": "markdown",
   "metadata": {
    "id": "RL7pludbAfxb"
   },
   "source": [
    "### Task 3"
   ]
  },
  {
   "cell_type": "markdown",
   "metadata": {
    "id": "LMh6BWqaCCT_"
   },
   "source": [
    "**Type each line of code into the provided Python shell. Write the corresponding output in the space above. If an error occurs, write what type of error occurs. If you were surprised by any of the output, note what was surprising.**"
   ]
  },
  {
   "cell_type": "markdown",
   "metadata": {
    "id": "GTN16_n6CONA"
   },
   "source": [
    "```python\n",
    "odd = [1, 3, 5, 7]\n",
    "```"
   ]
  },
  {
   "cell_type": "code",
   "execution_count": null,
   "metadata": {
    "id": "WmCE38M6CT36"
   },
   "outputs": [],
   "source": []
  },
  {
   "cell_type": "markdown",
   "metadata": {
    "id": "UopNdQKOCUEe"
   },
   "source": []
  },
  {
   "cell_type": "markdown",
   "metadata": {
    "id": "tLuzemHGCUzD"
   },
   "source": [
    "```python\n",
    "print(odd)\n",
    "```"
   ]
  },
  {
   "cell_type": "code",
   "execution_count": null,
   "metadata": {
    "id": "psbVGlcDCY79"
   },
   "outputs": [],
   "source": []
  },
  {
   "cell_type": "markdown",
   "metadata": {
    "id": "BQ4w2K8UCZJo"
   },
   "source": []
  },
  {
   "cell_type": "markdown",
   "metadata": {
    "id": "1S2dbk9FCZtf"
   },
   "source": [
    "```python\n",
    "print(odd[2])\n",
    "```"
   ]
  },
  {
   "cell_type": "code",
   "execution_count": null,
   "metadata": {
    "id": "9nVCuDmcCd3J"
   },
   "outputs": [],
   "source": []
  },
  {
   "cell_type": "markdown",
   "metadata": {
    "id": "MyesH-DICdVN"
   },
   "source": []
  },
  {
   "cell_type": "markdown",
   "metadata": {
    "id": "GbtrAiSHCeVh"
   },
   "source": [
    "```python\n",
    "print(odd[4])\n",
    "```"
   ]
  },
  {
   "cell_type": "code",
   "execution_count": null,
   "metadata": {
    "id": "0uDfu1FVChZx"
   },
   "outputs": [],
   "source": []
  },
  {
   "cell_type": "markdown",
   "metadata": {
    "id": "yY3SEV2aChm3"
   },
   "source": []
  },
  {
   "cell_type": "markdown",
   "metadata": {
    "id": "lT6rL3QSCh4n"
   },
   "source": [
    "```python\n",
    "print(len(odd))\n",
    "```"
   ]
  },
  {
   "cell_type": "code",
   "execution_count": null,
   "metadata": {
    "id": "j3JcW625ClZX"
   },
   "outputs": [],
   "source": []
  },
  {
   "cell_type": "markdown",
   "metadata": {
    "id": "NRGXHeTCCk_L"
   },
   "source": []
  },
  {
   "cell_type": "markdown",
   "metadata": {
    "id": "W_XutfZVClxR"
   },
   "source": [
    "```python\n",
    "number = odd[1]\n",
    "```"
   ]
  },
  {
   "cell_type": "code",
   "execution_count": null,
   "metadata": {
    "id": "WtKfaPY_CpN8"
   },
   "outputs": [],
   "source": []
  },
  {
   "cell_type": "markdown",
   "metadata": {
    "id": "Rhjv_ZocCo3C"
   },
   "source": []
  },
  {
   "cell_type": "markdown",
   "metadata": {
    "id": "5ERhY26ACplx"
   },
   "source": [
    "```python\n",
    "print(odd)\n",
    "```"
   ]
  },
  {
   "cell_type": "code",
   "execution_count": null,
   "metadata": {
    "id": "7B2Pok90CuAB"
   },
   "outputs": [],
   "source": []
  },
  {
   "cell_type": "markdown",
   "metadata": {
    "id": "hiLqrJLACtdv"
   },
   "source": []
  },
  {
   "cell_type": "markdown",
   "metadata": {
    "id": "Qs00sSQvCuad"
   },
   "source": [
    "```python\n",
    "print(number)\n",
    "```"
   ]
  },
  {
   "cell_type": "code",
   "execution_count": null,
   "metadata": {
    "id": "j_zUZQDCCwwO"
   },
   "outputs": [],
   "source": []
  },
  {
   "cell_type": "markdown",
   "metadata": {
    "id": "Ne8HFvExCw95"
   },
   "source": []
  },
  {
   "cell_type": "markdown",
   "metadata": {
    "id": "1cvszc_KCxjb"
   },
   "source": [
    "### Task 4"
   ]
  },
  {
   "cell_type": "markdown",
   "metadata": {
    "id": "0aJlmJT2C0l9"
   },
   "source": [
    "**How did you reference the value of the 3rd element of `odd`?**"
   ]
  },
  {
   "cell_type": "markdown",
   "metadata": {
    "id": "SE57sUONC74Q"
   },
   "source": []
  },
  {
   "cell_type": "markdown",
   "metadata": {
    "id": "X2sMAaRkC8Ld"
   },
   "source": [
    "### Task 5"
   ]
  },
  {
   "cell_type": "markdown",
   "metadata": {
    "id": "waw3tYz2C9WZ"
   },
   "source": [
    "**What did the output of the `len()` function tell you about the list?**"
   ]
  },
  {
   "cell_type": "markdown",
   "metadata": {
    "id": "MBokPcE2DCip"
   },
   "source": []
  },
  {
   "cell_type": "markdown",
   "metadata": {
    "id": "Fa3FSPB9DDHF"
   },
   "source": [
    "### Task 6"
   ]
  },
  {
   "cell_type": "markdown",
   "metadata": {
    "id": "ZikfZ4zCDE-C"
   },
   "source": [
    "**The output of `print(odd[4])` produced an error. What's wrong with this line?**"
   ]
  },
  {
   "cell_type": "markdown",
   "metadata": {
    "id": "pfu1bGT6DPXy"
   },
   "source": []
  },
  {
   "cell_type": "markdown",
   "metadata": {
    "id": "I4GkTh8XDP1p"
   },
   "source": [
    "### Task 7"
   ]
  },
  {
   "cell_type": "markdown",
   "metadata": {
    "id": "Xn7vonRqDRn8"
   },
   "source": [
    "**Write and execute a line of Python code that assigns a list of three integers to the variable `run`. You can choose what the integers are.**"
   ]
  },
  {
   "cell_type": "code",
   "execution_count": null,
   "metadata": {
    "id": "mRP5oM0CDa22"
   },
   "outputs": [],
   "source": []
  },
  {
   "cell_type": "markdown",
   "metadata": {
    "id": "SR3cb0E3DbMH"
   },
   "source": [
    "### Task 8"
   ]
  },
  {
   "cell_type": "markdown",
   "metadata": {
    "id": "5MoBxfMuDcg0"
   },
   "source": [
    "**Write and execute a statement that assigns the value 100 to the last element of `run`.**"
   ]
  },
  {
   "cell_type": "code",
   "execution_count": null,
   "metadata": {
    "id": "5ZjOm1VPDi_Q"
   },
   "outputs": [],
   "source": []
  },
  {
   "cell_type": "markdown",
   "metadata": {
    "id": "OLhjKxrWDjX0"
   },
   "source": [
    "### Task 9"
   ]
  },
  {
   "cell_type": "markdown",
   "metadata": {
    "id": "1-ewJ6RyDkqE"
   },
   "source": [
    "**Write and execute a statement that assigns the first value of `run` to a new variable called `first`.**"
   ]
  },
  {
   "cell_type": "code",
   "execution_count": null,
   "metadata": {
    "id": "IkDkzpcODqjO"
   },
   "outputs": [],
   "source": []
  },
  {
   "cell_type": "markdown",
   "metadata": {
    "id": "-p1v7rWODrRA"
   },
   "source": [
    "### Task 10"
   ]
  },
  {
   "cell_type": "markdown",
   "metadata": {
    "id": "ZBIOJgKIDsks"
   },
   "source": [
    "**Double-check your above assignment statements by printing `run` to make sure it did what you wanted it to do, then print `run` to make sure the output is what you expected.**"
   ]
  },
  {
   "cell_type": "code",
   "execution_count": null,
   "metadata": {
    "id": "zNwVFLtCD3Op"
   },
   "outputs": [],
   "source": []
  },
  {
   "cell_type": "markdown",
   "metadata": {
    "id": "mhbtPuzMHpK7"
   },
   "source": [
    "---\n",
    "\n",
    "End of exercise."
   ]
  }
 ],
 "metadata": {
  "colab": {
   "collapsed_sections": [],
   "name": "basicdatatypes.ipynb",
   "private_outputs": true,
   "provenance": []
  },
  "kernelspec": {
   "display_name": "Python 3 (ipykernel)",
   "language": "python",
   "name": "python3"
  },
  "language_info": {
   "codemirror_mode": {
    "name": "ipython",
    "version": 3
   },
   "file_extension": ".py",
   "mimetype": "text/x-python",
   "name": "python",
   "nbconvert_exporter": "python",
   "pygments_lexer": "ipython3",
   "version": "3.9.7"
  }
 },
 "nbformat": 4,
 "nbformat_minor": 1
}
