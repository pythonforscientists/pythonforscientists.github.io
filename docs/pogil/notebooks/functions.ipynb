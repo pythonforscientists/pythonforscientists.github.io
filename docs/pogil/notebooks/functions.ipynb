{
 "cells": [
  {
   "cell_type": "markdown",
   "id": "3565e4d3",
   "metadata": {},
   "source": [
    "# POGIL 7.1 - Functions\n",
    "\n",
    "## Python for Scientists"
   ]
  },
  {
   "cell_type": "markdown",
   "id": "8b44ac26",
   "metadata": {},
   "source": [
    "### Content Learning Objectives"
   ]
  },
  {
   "cell_type": "markdown",
   "id": "71097403",
   "metadata": {},
   "source": [
    " After completing this activity, students should be able to:\n",
    " \n",
    "- Describe what a function is and how it is defined in Python\n",
    "- Write a function definition and call a function\n",
    "- Understand the strengths and weaknesses of creating functions"
   ]
  },
  {
   "cell_type": "markdown",
   "id": "55e76d52",
   "metadata": {},
   "source": [
    "### Process Skill Goals"
   ]
  },
  {
   "cell_type": "markdown",
   "id": "d933441f",
   "metadata": {},
   "source": [
    "*During this activity, you should make progress toward:*\n",
    "\n",
    "- Leveraging prior knowledge and experience of other students\n",
    "- Tracing the execution of functions with a Python visualizer"
   ]
  },
  {
   "cell_type": "markdown",
   "id": "e071c4c1",
   "metadata": {},
   "source": [
    "## Section 1"
   ]
  },
  {
   "cell_type": "markdown",
   "id": "af815db3",
   "metadata": {},
   "source": [
    "### Task 1"
   ]
  },
  {
   "cell_type": "markdown",
   "id": "838f7646",
   "metadata": {},
   "source": [
    "**In addition to using Python's built-in functions (like `print` or `abs`) and functions defined in other modules (like `math.sqrt`), you can write your own functions.**\n",
    "\n",
    "**Consider the following code.**\n",
    "\n",
    "```python\n",
    "def model_one():\n",
    "  word = input(\"Enter a word:\")\n",
    "  L = len(word)\n",
    "  ans = word * L\n",
    "  print(ans)\n",
    "\n",
    "def main():\n",
    "  print(\"Starting main...\")\n",
    "  model_one()\n",
    "  print(\"All done!\")\n",
    "\n",
    "main()\n",
    "```"
   ]
  },
  {
   "cell_type": "markdown",
   "id": "3997cb20",
   "metadata": {},
   "source": [
    "**What is the Python keyword for defining a function?**"
   ]
  },
  {
   "cell_type": "markdown",
   "id": "177b313e",
   "metadata": {},
   "source": []
  },
  {
   "cell_type": "markdown",
   "id": "e3fac3bd",
   "metadata": {},
   "source": [
    "**Copy the line where the `model_one` function is defined, and paste it here.**"
   ]
  },
  {
   "cell_type": "markdown",
   "id": "d770a983",
   "metadata": {},
   "source": []
  },
  {
   "cell_type": "markdown",
   "id": "88e2a453",
   "metadata": {},
   "source": [
    "**Copy the line where the `main` function is defined, and paste it here.**"
   ]
  },
  {
   "cell_type": "markdown",
   "id": "c9676876",
   "metadata": {},
   "source": []
  },
  {
   "cell_type": "markdown",
   "id": "7ec372cc",
   "metadata": {},
   "source": [
    "### Task 2"
   ]
  },
  {
   "cell_type": "markdown",
   "id": "d3b51ea7",
   "metadata": {},
   "source": [
    "Open a new browser tab and go to [pythontutor.com](//pythontutor.com). Click on \"Visualize your code\" and paste the entire code block from Task 1. Make sure that you don't have any extra lines at the beginning, since we'll refer to line numbers though the rest of this exercise."
   ]
  },
  {
   "cell_type": "markdown",
   "id": "a9f67b19",
   "metadata": {},
   "source": [
    "### Task 3"
   ]
  },
  {
   "cell_type": "markdown",
   "id": "5574ad24",
   "metadata": {},
   "source": [
    "Click the \"Visualize Execution\" button. As you step through the program, pay attention to what is happening on the left side of the visualization."
   ]
  },
  {
   "cell_type": "markdown",
   "id": "f26d2ee8",
   "metadata": {},
   "source": [
    "**What does the *red* arrow indicate?**"
   ]
  },
  {
   "cell_type": "markdown",
   "id": "70e91e60",
   "metadata": {},
   "source": []
  },
  {
   "cell_type": "markdown",
   "id": "466eed70",
   "metadata": {},
   "source": [
    "**What does the *green* arrow indicate?**"
   ]
  },
  {
   "cell_type": "markdown",
   "id": "874d2b8c",
   "metadata": {},
   "source": []
  },
  {
   "cell_type": "markdown",
   "id": "3ee8a6e9",
   "metadata": {},
   "source": [
    "### Task 4"
   ]
  },
  {
   "cell_type": "markdown",
   "id": "f9a0dea0",
   "metadata": {},
   "source": [
    "Let's look more carefully at the order in which this program runs."
   ]
  },
  {
   "cell_type": "markdown",
   "id": "1eeebf85",
   "metadata": {},
   "source": [
    "**After line 12 of the program executes (Step 3), what is the next line of code that executes?**"
   ]
  },
  {
   "cell_type": "markdown",
   "id": "3422d53f",
   "metadata": {},
   "source": []
  },
  {
   "cell_type": "markdown",
   "id": "3639ed83",
   "metadata": {},
   "source": [
    "**After line 9 of the program executes (Step 6), what is the next line of code that executes?**"
   ]
  },
  {
   "cell_type": "markdown",
   "id": "b3d37a5d",
   "metadata": {},
   "source": []
  },
  {
   "cell_type": "markdown",
   "id": "39be0fee",
   "metadata": {},
   "source": [
    "### Task 5"
   ]
  },
  {
   "cell_type": "markdown",
   "id": "660da775",
   "metadata": {},
   "source": [
    "Go back to the beginning of the program execution. This time, as you step through the program, pay attention to what changes on the right side of the visualization."
   ]
  },
  {
   "cell_type": "markdown",
   "id": "a48ae88b",
   "metadata": {},
   "source": [
    "**What changes happen after Step 1?**"
   ]
  },
  {
   "cell_type": "markdown",
   "id": "7c7206b6",
   "metadata": {},
   "source": []
  },
  {
   "cell_type": "markdown",
   "id": "f6b067b6",
   "metadata": {},
   "source": [
    "**What changes after Step 2?**"
   ]
  },
  {
   "cell_type": "markdown",
   "id": "ede397d4",
   "metadata": {},
   "source": []
  },
  {
   "cell_type": "markdown",
   "id": "f6095e45",
   "metadata": {},
   "source": [
    "### Task 6"
   ]
  },
  {
   "cell_type": "markdown",
   "id": "4eeb0306",
   "metadata": {},
   "source": [
    "**In general, what happens on the right side of the visualization when a function is called?**"
   ]
  },
  {
   "cell_type": "markdown",
   "id": "43914e52",
   "metadata": {},
   "source": []
  },
  {
   "cell_type": "markdown",
   "id": "b2e0e72a",
   "metadata": {},
   "source": [
    "### Task 7"
   ]
  },
  {
   "cell_type": "markdown",
   "id": "67ac61c5",
   "metadata": {},
   "source": [
    "**In terms of execution order, what is the effect of calling a function?**"
   ]
  },
  {
   "cell_type": "markdown",
   "id": "13c420bd",
   "metadata": {},
   "source": []
  },
  {
   "cell_type": "markdown",
   "id": "2d7233f8",
   "metadata": {},
   "source": [
    "### Task 8"
   ]
  },
  {
   "cell_type": "markdown",
   "id": "67a20202",
   "metadata": {},
   "source": [
    "**In the code block provided, write a definition for a function called `strToList` that prompts the user to enter a word. The function should convert the string into a list of individual characters, then print the list. Then, call your function to make sure it works properly.**"
   ]
  },
  {
   "cell_type": "code",
   "execution_count": null,
   "id": "a2e35ff1",
   "metadata": {},
   "outputs": [],
   "source": []
  },
  {
   "cell_type": "markdown",
   "id": "afb14581",
   "metadata": {},
   "source": [
    "## Section 2"
   ]
  },
  {
   "cell_type": "markdown",
   "id": "7d3a869a",
   "metadata": {},
   "source": [
    "### Task 9"
   ]
  },
  {
   "cell_type": "markdown",
   "id": "2bc21f0e",
   "metadata": {},
   "source": [
    "**Consider the following code. You can run it to see what happens.**"
   ]
  },
  {
   "cell_type": "code",
   "execution_count": null,
   "id": "a96f036d",
   "metadata": {},
   "outputs": [],
   "source": [
    "def funcWithArgs(word):\n",
    "  ans = word * len(word)\n",
    "  print(ans)\n",
    "\n",
    "def main():\n",
    "  print(\"Starting main...\")\n",
    "  w = input(\"Enter a word: \")\n",
    "  funcWithArgs(w)\n",
    "  print(\"All done!\")\n",
    "\n",
    "main()"
   ]
  },
  {
   "cell_type": "markdown",
   "id": "064007b1",
   "metadata": {},
   "source": [
    "**What is the parameter in the `funcWithArgs` function definition?**"
   ]
  },
  {
   "cell_type": "markdown",
   "id": "a7338240",
   "metadata": {},
   "source": []
  },
  {
   "cell_type": "markdown",
   "id": "fc017a16",
   "metadata": {},
   "source": [
    "**Paste the line of code where the `funcWithArgs` function is called in `main`. What is the argument that is being passed in the function call?**"
   ]
  },
  {
   "cell_type": "markdown",
   "id": "f761b75c",
   "metadata": {},
   "source": []
  },
  {
   "cell_type": "markdown",
   "id": "d0207260",
   "metadata": {},
   "source": [
    "### Task 10"
   ]
  },
  {
   "cell_type": "markdown",
   "id": "14473a82",
   "metadata": {},
   "source": [
    "Go back to [pythontutor.com](//pythontutor.com). Visualize the execution of the code until Step 8."
   ]
  },
  {
   "cell_type": "markdown",
   "id": "aeabedc9",
   "metadata": {},
   "source": [
    "**How does the frame for `funcWithArgs` at this point the execution differ from the frame from the execution in Section 1?**"
   ]
  },
  {
   "cell_type": "markdown",
   "id": "7b5c3960",
   "metadata": {},
   "source": []
  },
  {
   "cell_type": "markdown",
   "id": "31f86da4",
   "metadata": {},
   "source": [
    "**Write the implied assignment statement to show how the parameter `word` gets its value.**"
   ]
  },
  {
   "cell_type": "markdown",
   "id": "b325e3ca",
   "metadata": {},
   "source": []
  },
  {
   "cell_type": "markdown",
   "id": "0e850244",
   "metadata": {},
   "source": [
    "**When a variable is used as an argument, does the name of the variable need to be the same as the parameter variable name?**"
   ]
  },
  {
   "cell_type": "markdown",
   "id": "bbae6337",
   "metadata": {},
   "source": []
  },
  {
   "cell_type": "markdown",
   "id": "1c6fe4e5",
   "metadata": {},
   "source": [
    "### Task 11"
   ]
  },
  {
   "cell_type": "markdown",
   "id": "14e7ee95",
   "metadata": {},
   "source": [
    "**Look back at the two implied assignment statements that you have written. What exactly gets \"passed\" when you call a function?**"
   ]
  },
  {
   "cell_type": "markdown",
   "id": "7ba54d46",
   "metadata": {},
   "source": []
  },
  {
   "cell_type": "markdown",
   "id": "229e100d",
   "metadata": {},
   "source": [
    "### Task 12"
   ]
  },
  {
   "cell_type": "markdown",
   "id": "71b5de3c",
   "metadata": {},
   "source": [
    "**In the below code block, write some code that modifies the `funcWithArgs` function so that instead of multiplying `word` by the length of `word`, it will multiply by an integer passed as the second argument to the function. Use `times` for the name of the new integer parameter.**"
   ]
  },
  {
   "cell_type": "code",
   "execution_count": null,
   "id": "349cefb1",
   "metadata": {},
   "outputs": [],
   "source": []
  },
  {
   "cell_type": "markdown",
   "id": "64ee5503",
   "metadata": {},
   "source": [
    "### Task 13"
   ]
  },
  {
   "cell_type": "markdown",
   "id": "158870ea",
   "metadata": {},
   "source": [
    "**How does the call to `funcWithArgs` need to change so that it matches the new function definition? Give an example.**"
   ]
  },
  {
   "cell_type": "markdown",
   "id": "13e50606",
   "metadata": {},
   "source": []
  },
  {
   "cell_type": "code",
   "execution_count": null,
   "id": "437b5896",
   "metadata": {},
   "outputs": [],
   "source": []
  }
 ],
 "metadata": {
  "kernelspec": {
   "display_name": "Python 3 (ipykernel)",
   "language": "python",
   "name": "python3"
  },
  "language_info": {
   "codemirror_mode": {
    "name": "ipython",
    "version": 3
   },
   "file_extension": ".py",
   "mimetype": "text/x-python",
   "name": "python",
   "nbconvert_exporter": "python",
   "pygments_lexer": "ipython3",
   "version": "3.9.7"
  }
 },
 "nbformat": 4,
 "nbformat_minor": 5
}
