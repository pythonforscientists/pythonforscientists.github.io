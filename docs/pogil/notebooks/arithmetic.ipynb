{
 "cells": [
  {
   "cell_type": "markdown",
   "id": "3565e4d3",
   "metadata": {},
   "source": [
    "# POGIL 4.9 - Arithmetic\n",
    "\n",
    "## Python for Scientists\n"
   ]
  },
  {
   "cell_type": "markdown",
   "id": "8b44ac26",
   "metadata": {},
   "source": [
    "### Content Learning Objectives"
   ]
  },
  {
   "cell_type": "markdown",
   "id": "71097403",
   "metadata": {},
   "source": [
    "After completing this activity, students should be able to:\n",
    " \n",
    "- Identify all seven arithmetic operations by symbol\n",
    "- Understand how to use arithmetic operations in Python\n",
    "- Understand how Python orders operations"
   ]
  },
  {
   "cell_type": "markdown",
   "id": "55e76d52",
   "metadata": {},
   "source": [
    "### Process Skill Goals"
   ]
  },
  {
   "cell_type": "markdown",
   "id": "d933441f",
   "metadata": {},
   "source": [
    "*During this activity, you should make progress toward:*\n",
    "\n",
    "- Leveraging prior knowledge and experience of other students"
   ]
  },
  {
   "cell_type": "markdown",
   "id": "5b3bb8f3",
   "metadata": {},
   "source": [
    "## Section 1"
   ]
  },
  {
   "cell_type": "markdown",
   "id": "f08b174c",
   "metadata": {},
   "source": [
    "### Task 1"
   ]
  },
  {
   "cell_type": "markdown",
   "id": "af815db3",
   "metadata": {},
   "source": [
    "You are currently reading this in an Interactive Python Notebook, or IPYNB. That means that you can run code and view expressions right in your notebook. All text entered into a code block in an IPYNB will be executed immediately as Python code when you click on the Run button next to the code cell. Most notebook renderers show a little play button next to the cell as the Run button. Try it below."
   ]
  },
  {
   "cell_type": "code",
   "execution_count": null,
   "id": "87a07aee",
   "metadata": {},
   "outputs": [],
   "source": [
    "# <-- click on that run button\n",
    "\n",
    "2 + 3"
   ]
  },
  {
   "cell_type": "markdown",
   "id": "000a3dc8",
   "metadata": {},
   "source": [
    "What was the output of the above cell?"
   ]
  },
  {
   "cell_type": "markdown",
   "id": "7e5ecede",
   "metadata": {},
   "source": []
  },
  {
   "cell_type": "markdown",
   "id": "75c005a8",
   "metadata": {},
   "source": [
    "If you enter a Python expression, like the one above, Python will show the value of that expression, similar to a calculator. Python has some arithmetic functionality built right in, but you can also use the `math` module to perform some more complicated mathematical operations, like logarithms or trigonometry."
   ]
  },
  {
   "cell_type": "markdown",
   "id": "c62ec5ac",
   "metadata": {},
   "source": [
    "### Task 2"
   ]
  },
  {
   "cell_type": "markdown",
   "metadata": {
    "id": "WMTIlS_0ry6a"
   },
   "source": [
    "**Before you run any code, try to figure out what you think Python will output for the following expressions. Don't use the Python interpreter (we'll do that later).**"
   ]
  },
  {
   "cell_type": "markdown",
   "metadata": {
    "id": "yJizRkm8sCIR"
   },
   "source": [
    "```python\n",
    "2 + 3\n",
    "```"
   ]
  },
  {
   "cell_type": "markdown",
   "metadata": {
    "id": "VvRyvv5asG44"
   },
   "source": []
  },
  {
   "cell_type": "markdown",
   "metadata": {
    "id": "tVqshaldsHkg"
   },
   "source": [
    "```python\n",
    "3 * 4 + 2\n",
    "```"
   ]
  },
  {
   "cell_type": "markdown",
   "metadata": {
    "id": "m7pL5EcbsKWO"
   },
   "source": []
  },
  {
   "cell_type": "markdown",
   "metadata": {
    "id": "LaOzSBn7sKrk"
   },
   "source": [
    "```python\n",
    "3 * 4 + 2.0\n",
    "```"
   ]
  },
  {
   "cell_type": "markdown",
   "metadata": {
    "id": "e4IcOd8NsN9K"
   },
   "source": []
  },
  {
   "cell_type": "markdown",
   "metadata": {
    "id": "psnQseq4sOpe"
   },
   "source": [
    "```python\n",
    "3(4 + 2)\n",
    "```"
   ]
  },
  {
   "cell_type": "markdown",
   "metadata": {
    "id": "l6y13xvbsSRV"
   },
   "source": []
  },
  {
   "cell_type": "markdown",
   "metadata": {
    "id": "ewjtsfxzsSvq"
   },
   "source": [
    "```python\n",
    "3 * (4 + 2)\n",
    "```"
   ]
  },
  {
   "cell_type": "markdown",
   "metadata": {
    "id": "Vp6ImBZKsXiH"
   },
   "source": []
  },
  {
   "cell_type": "markdown",
   "metadata": {
    "id": "iy0Q0AewsYZt"
   },
   "source": [
    "```python\n",
    "5 / 10\n",
    "```"
   ]
  },
  {
   "cell_type": "markdown",
   "metadata": {
    "id": "TGMU_kcSsa8V"
   },
   "source": []
  },
  {
   "cell_type": "markdown",
   "metadata": {
    "id": "CDBUTuTpsbPd"
   },
   "source": [
    "```python\n",
    "5 / 10.0\n",
    "```"
   ]
  },
  {
   "cell_type": "markdown",
   "metadata": {
    "id": "tBC_X_21sdYz"
   },
   "source": []
  },
  {
   "cell_type": "markdown",
   "metadata": {
    "id": "XQn6PCg0sd6d"
   },
   "source": [
    "```python\n",
    "5 / 9\n",
    "```"
   ]
  },
  {
   "cell_type": "markdown",
   "metadata": {
    "id": "No67rfU0sgwf"
   },
   "source": []
  },
  {
   "cell_type": "markdown",
   "metadata": {
    "id": "zlXpMM_RshQx"
   },
   "source": [
    "```python\n",
    "2 ** 4\n",
    "```"
   ]
  },
  {
   "cell_type": "markdown",
   "metadata": {
    "id": "k3JhwqTesk6v"
   },
   "source": []
  },
  {
   "cell_type": "markdown",
   "metadata": {
    "id": "FIVqvPr5slfj"
   },
   "source": [
    "```python\n",
    "abs(-2) ** 4\n",
    "```"
   ]
  },
  {
   "cell_type": "markdown",
   "metadata": {
    "id": "0LUoB1KZssVh"
   },
   "source": []
  },
  {
   "cell_type": "markdown",
   "metadata": {
    "id": "pCW1Sbvzssst"
   },
   "source": [
    "```python\n",
    "math.pow(2, 4)\n",
    "```"
   ]
  },
  {
   "cell_type": "markdown",
   "metadata": {
    "id": "g-csQ41UsvoT"
   },
   "source": []
  },
  {
   "cell_type": "markdown",
   "metadata": {
    "id": "qM1PXiJksv5_"
   },
   "source": [
    "```python\n",
    "import math\n",
    "```"
   ]
  },
  {
   "cell_type": "markdown",
   "metadata": {
    "id": "-1345t7Usxht"
   },
   "source": []
  },
  {
   "cell_type": "markdown",
   "metadata": {
    "id": "IgxscICUsyEB"
   },
   "source": [
    "```python\n",
    "math.pow(2, 4)\n",
    "```"
   ]
  },
  {
   "cell_type": "markdown",
   "metadata": {
    "id": "e8PeRP6Rs0ee"
   },
   "source": []
  },
  {
   "cell_type": "markdown",
   "metadata": {
    "id": "czwhA3zms01v"
   },
   "source": [
    "```python\n",
    "sqrt(4)\n",
    "```"
   ]
  },
  {
   "cell_type": "markdown",
   "metadata": {
    "id": "P0JBXYxjs3Ap"
   },
   "source": []
  },
  {
   "cell_type": "markdown",
   "metadata": {
    "id": "9yx-fVeRs3iR"
   },
   "source": [
    "```python\n",
    "math.sqrt(4)\n",
    "```"
   ]
  },
  {
   "cell_type": "markdown",
   "metadata": {
    "id": "eSFJa8n8s5_J"
   },
   "source": []
  },
  {
   "cell_type": "markdown",
   "metadata": {
    "id": "kLr_gUars6S_"
   },
   "source": [
    "```python\n",
    "math.cos(0)\n",
    "```"
   ]
  },
  {
   "cell_type": "markdown",
   "metadata": {
    "id": "uyPg-hbSs807"
   },
   "source": []
  },
  {
   "cell_type": "markdown",
   "metadata": {
    "id": "NSwaLBnLs9HV"
   },
   "source": [
    "```python\n",
    "math.pi\n",
    "```"
   ]
  },
  {
   "cell_type": "markdown",
   "metadata": {
    "id": "lLfQO2ortADh"
   },
   "source": []
  },
  {
   "cell_type": "markdown",
   "metadata": {
    "id": "rR2haObItAX7"
   },
   "source": [
    "```python\n",
    "math.sin(math.pi / 2)\n",
    "```"
   ]
  },
  {
   "cell_type": "markdown",
   "metadata": {
    "id": "1S1LdBXktD-t"
   },
   "source": []
  },
  {
   "cell_type": "markdown",
   "metadata": {
    "id": "IxqzcNg2tEfL"
   },
   "source": [
    "### Task 3"
   ]
  },
  {
   "cell_type": "markdown",
   "id": "27c379e4",
   "metadata": {},
   "source": [
    "Now, run each of these lines. Type each Python expression in the prompt given, one line at a time. Write the corresponding output in the following text block. If an error occurs, write what type of error it was (I.e., the first word of the last line of the error message)."
   ]
  },
  {
   "cell_type": "markdown",
   "metadata": {
    "id": "rlAAjnaztLdP"
   },
   "source": [
    "```python\n",
    "2 + 3\n",
    "```"
   ]
  },
  {
   "cell_type": "code",
   "execution_count": null,
   "metadata": {
    "id": "zCmNEUNCtg_z"
   },
   "outputs": [],
   "source": []
  },
  {
   "cell_type": "markdown",
   "metadata": {
    "id": "bRAa8nnKtLdP"
   },
   "source": []
  },
  {
   "cell_type": "markdown",
   "metadata": {
    "id": "zLYgmUGYtLdQ"
   },
   "source": [
    "```python\n",
    "3 * 4 + 2\n",
    "```"
   ]
  },
  {
   "cell_type": "code",
   "execution_count": null,
   "metadata": {
    "id": "JirN5Meothe3"
   },
   "outputs": [],
   "source": []
  },
  {
   "cell_type": "markdown",
   "metadata": {
    "id": "TMrbCMDwtLdQ"
   },
   "source": []
  },
  {
   "cell_type": "markdown",
   "metadata": {
    "id": "pkjw95FmtLdQ"
   },
   "source": [
    "```python\n",
    "3 * 4 + 2.0\n",
    "```"
   ]
  },
  {
   "cell_type": "code",
   "execution_count": null,
   "metadata": {
    "id": "HHBTOfJztiIk"
   },
   "outputs": [],
   "source": []
  },
  {
   "cell_type": "markdown",
   "metadata": {
    "id": "fmd7IPHUtLdR"
   },
   "source": []
  },
  {
   "cell_type": "markdown",
   "metadata": {
    "id": "vGBNMtnStLdR"
   },
   "source": [
    "```python\n",
    "3(4 + 2)\n",
    "```"
   ]
  },
  {
   "cell_type": "code",
   "execution_count": null,
   "metadata": {
    "id": "LC5mCU7stik3"
   },
   "outputs": [],
   "source": []
  },
  {
   "cell_type": "markdown",
   "metadata": {
    "id": "uPwUkRG7tLdR"
   },
   "source": []
  },
  {
   "cell_type": "markdown",
   "metadata": {
    "id": "mQ6APoEltLdS"
   },
   "source": [
    "```python\n",
    "3 * (4 + 2)\n",
    "```"
   ]
  },
  {
   "cell_type": "code",
   "execution_count": null,
   "metadata": {
    "id": "fvjzx_07tjD1"
   },
   "outputs": [],
   "source": []
  },
  {
   "cell_type": "markdown",
   "metadata": {
    "id": "0_iVeIfJtLdS"
   },
   "source": []
  },
  {
   "cell_type": "markdown",
   "metadata": {
    "id": "jS8znjM9tLdT"
   },
   "source": [
    "```python\n",
    "5 / 10\n",
    "```"
   ]
  },
  {
   "cell_type": "code",
   "execution_count": null,
   "metadata": {
    "id": "ul9sgpUTtjoO"
   },
   "outputs": [],
   "source": []
  },
  {
   "cell_type": "markdown",
   "metadata": {
    "id": "avSHZs3jtLdT"
   },
   "source": []
  },
  {
   "cell_type": "markdown",
   "metadata": {
    "id": "X846rSSAtLdT"
   },
   "source": [
    "```python\n",
    "5 / 10.0\n",
    "```"
   ]
  },
  {
   "cell_type": "code",
   "execution_count": null,
   "metadata": {
    "id": "BqdZu7bNtj8C"
   },
   "outputs": [],
   "source": []
  },
  {
   "cell_type": "markdown",
   "metadata": {
    "id": "mw-YAXyutLdU"
   },
   "source": []
  },
  {
   "cell_type": "markdown",
   "metadata": {
    "id": "DKGCK7X5tLdU"
   },
   "source": [
    "```python\n",
    "5 / 9\n",
    "```"
   ]
  },
  {
   "cell_type": "code",
   "execution_count": null,
   "metadata": {
    "id": "YsR4ex8ytkfO"
   },
   "outputs": [],
   "source": []
  },
  {
   "cell_type": "markdown",
   "metadata": {
    "id": "w8J1J71etLdV"
   },
   "source": []
  },
  {
   "cell_type": "markdown",
   "metadata": {
    "id": "sZaVEmygtLdV"
   },
   "source": [
    "```python\n",
    "2 ** 4\n",
    "```"
   ]
  },
  {
   "cell_type": "code",
   "execution_count": null,
   "metadata": {
    "id": "Ljvk9Yoetk3c"
   },
   "outputs": [],
   "source": []
  },
  {
   "cell_type": "markdown",
   "metadata": {
    "id": "4CZBSKwltLdW"
   },
   "source": []
  },
  {
   "cell_type": "markdown",
   "metadata": {
    "id": "gRm3nvXotLdW"
   },
   "source": [
    "```python\n",
    "abs(-2) ** 4\n",
    "```"
   ]
  },
  {
   "cell_type": "code",
   "execution_count": null,
   "metadata": {
    "id": "I21YAYFxtlNy"
   },
   "outputs": [],
   "source": []
  },
  {
   "cell_type": "markdown",
   "metadata": {
    "id": "Ij1xnVzstLdW"
   },
   "source": []
  },
  {
   "cell_type": "markdown",
   "metadata": {
    "id": "NK1ggAMvtLdX"
   },
   "source": [
    "```python\n",
    "math.pow(2, 4)\n",
    "```"
   ]
  },
  {
   "cell_type": "code",
   "execution_count": null,
   "metadata": {
    "id": "2f5H-W9rtlu_"
   },
   "outputs": [],
   "source": []
  },
  {
   "cell_type": "markdown",
   "metadata": {
    "id": "aVXCz9DQtLdX"
   },
   "source": []
  },
  {
   "cell_type": "markdown",
   "metadata": {
    "id": "sWF24tsmtLdX"
   },
   "source": [
    "```python\n",
    "import math\n",
    "```"
   ]
  },
  {
   "cell_type": "code",
   "execution_count": null,
   "metadata": {
    "id": "_RtRzGm0tmJ2"
   },
   "outputs": [],
   "source": []
  },
  {
   "cell_type": "markdown",
   "metadata": {
    "id": "iIrfdEaltLdY"
   },
   "source": []
  },
  {
   "cell_type": "markdown",
   "metadata": {
    "id": "ikzvtwe5tLdY"
   },
   "source": [
    "```python\n",
    "math.pow(2, 4)\n",
    "```"
   ]
  },
  {
   "cell_type": "code",
   "execution_count": null,
   "metadata": {
    "id": "VdkS3lBotmhT"
   },
   "outputs": [],
   "source": []
  },
  {
   "cell_type": "markdown",
   "metadata": {
    "id": "Ssqt3yPNtLdY"
   },
   "source": []
  },
  {
   "cell_type": "markdown",
   "metadata": {
    "id": "2ILDKbIwtLdZ"
   },
   "source": [
    "```python\n",
    "sqrt(4)\n",
    "```"
   ]
  },
  {
   "cell_type": "code",
   "execution_count": null,
   "metadata": {
    "id": "FYy78PGTtose"
   },
   "outputs": [],
   "source": []
  },
  {
   "cell_type": "markdown",
   "metadata": {
    "id": "C1TMVqCltLdZ"
   },
   "source": []
  },
  {
   "cell_type": "markdown",
   "metadata": {
    "id": "FOoaJQ9KtLdZ"
   },
   "source": [
    "```python\n",
    "math.sqrt(4)\n",
    "```"
   ]
  },
  {
   "cell_type": "code",
   "execution_count": null,
   "metadata": {
    "id": "bT9IAhqetpAp"
   },
   "outputs": [],
   "source": []
  },
  {
   "cell_type": "markdown",
   "metadata": {
    "id": "612TzOwhtLda"
   },
   "source": []
  },
  {
   "cell_type": "markdown",
   "metadata": {
    "id": "-eHRqpfbtLda"
   },
   "source": [
    "```python\n",
    "math.cos(0)\n",
    "```"
   ]
  },
  {
   "cell_type": "code",
   "execution_count": null,
   "metadata": {
    "id": "9UipUfU9tpf4"
   },
   "outputs": [],
   "source": []
  },
  {
   "cell_type": "markdown",
   "metadata": {
    "id": "7fHULCTztLda"
   },
   "source": []
  },
  {
   "cell_type": "markdown",
   "metadata": {
    "id": "PjvwaoPRtLdc"
   },
   "source": [
    "```python\n",
    "math.pi\n",
    "```"
   ]
  },
  {
   "cell_type": "code",
   "execution_count": null,
   "metadata": {
    "id": "lRk0xsqvtqPC"
   },
   "outputs": [],
   "source": []
  },
  {
   "cell_type": "markdown",
   "metadata": {
    "id": "CE8k4-OdtLdc"
   },
   "source": []
  },
  {
   "cell_type": "markdown",
   "metadata": {
    "id": "pTp4o4-EtLdd"
   },
   "source": [
    "```python\n",
    "math.sin(math.pi / 2)\n",
    "```"
   ]
  },
  {
   "cell_type": "code",
   "execution_count": null,
   "metadata": {
    "id": "xwCI0BoKtq6J"
   },
   "outputs": [],
   "source": []
  },
  {
   "cell_type": "markdown",
   "metadata": {
    "id": "cxc9U9qwtLdd"
   },
   "source": []
  },
  {
   "cell_type": "markdown",
   "metadata": {
    "id": "HEqYvk6xtOf3"
   },
   "source": [
    "### Task 4"
   ]
  },
  {
   "cell_type": "markdown",
   "metadata": {
    "id": "MoxPrfnBtS__"
   },
   "source": [
    "**What does the** `**` **operator do?**"
   ]
  },
  {
   "cell_type": "markdown",
   "metadata": {
    "id": "cUYDSmdhuJeB"
   },
   "source": []
  },
  {
   "cell_type": "markdown",
   "metadata": {
    "id": "U6b-VdJ5uJ_I"
   },
   "source": [
    "### Task 5"
   ]
  },
  {
   "cell_type": "markdown",
   "metadata": {
    "id": "SWGpN2HNuLSi"
   },
   "source": [
    "**Based on your knowledge of what an operator and a function are, identify four examples of a mathematical operator (not a function).**"
   ]
  },
  {
   "cell_type": "markdown",
   "metadata": {
    "id": "HbXRu-HcuVjW"
   },
   "source": []
  },
  {
   "cell_type": "markdown",
   "metadata": {
    "id": "3lwF82NXuV7U"
   },
   "source": [
    "**Identify four examples of a mathematical function (not an operator).**"
   ]
  },
  {
   "cell_type": "markdown",
   "metadata": {
    "id": "CuyNFMWzuaMd"
   },
   "source": []
  },
  {
   "cell_type": "markdown",
   "metadata": {
    "id": "S9FpQCjKuagD"
   },
   "source": [
    "### Task 6"
   ]
  },
  {
   "cell_type": "markdown",
   "metadata": {
    "id": "aCGfEECXucTl"
   },
   "source": [
    "**For addition and multiplication to produce an output with a decimal value, what type of number must be part of the input? Provide an example to substantiate your claim.**"
   ]
  },
  {
   "cell_type": "markdown",
   "metadata": {
    "id": "QTbuVlnBumU-"
   },
   "source": []
  },
  {
   "cell_type": "markdown",
   "metadata": {
    "id": "Lw0BgThBumzM"
   },
   "source": [
    "### Task 7"
   ]
  },
  {
   "cell_type": "markdown",
   "metadata": {
    "id": "vNA1sDZluons"
   },
   "source": [
    "**Does division follow the same rule as in Task 6? Provide an example to substantiate your claim.**"
   ]
  },
  {
   "cell_type": "markdown",
   "metadata": {
    "id": "4jV5sBVnuvxP"
   },
   "source": []
  },
  {
   "cell_type": "markdown",
   "metadata": {
    "id": "BKG1QnThuwVa"
   },
   "source": [
    "### Task 8"
   ]
  },
  {
   "cell_type": "markdown",
   "metadata": {
    "id": "vBJBtXdUu2zK"
   },
   "source": [
    "**The output from Task 3 displayed three different errors. Explain the reason for each.**\n",
    "\n",
    "```\n",
    "TypeError\n",
    "```"
   ]
  },
  {
   "cell_type": "markdown",
   "metadata": {
    "id": "-fuI8fv8u_Rj"
   },
   "source": []
  },
  {
   "cell_type": "markdown",
   "metadata": {
    "id": "ZVYamB0Vu_rZ"
   },
   "source": [
    "1st `NameError`"
   ]
  },
  {
   "cell_type": "markdown",
   "metadata": {
    "id": "2LH8FG-rvCyp"
   },
   "source": []
  },
  {
   "cell_type": "markdown",
   "metadata": {
    "id": "KdmNakTNvDYD"
   },
   "source": [
    "2nd `NameError`"
   ]
  },
  {
   "cell_type": "markdown",
   "metadata": {
    "id": "XJZMZVgbvE6h"
   },
   "source": []
  },
  {
   "cell_type": "markdown",
   "metadata": {
    "id": "PY3MtVJWvFYK"
   },
   "source": [
    "### Task 9"
   ]
  },
  {
   "cell_type": "markdown",
   "metadata": {
    "id": "JGrxosGbvHWn"
   },
   "source": [
    "**Identify two differences between using a function already built into Python (like `abs()`) and a function from the `math` module.**"
   ]
  },
  {
   "cell_type": "markdown",
   "metadata": {
    "id": "foOvrRPVvOe-"
   },
   "source": []
  },
  {
   "cell_type": "markdown",
   "id": "de8a3042",
   "metadata": {},
   "source": [
    "## Section 2"
   ]
  },
  {
   "cell_type": "markdown",
   "metadata": {
    "id": "EN2gG0Z3vtFE"
   },
   "source": [
    "**Consider the following three tables.**"
   ]
  },
  {
   "cell_type": "markdown",
   "metadata": {
    "id": "riE1XW0Svzl3"
   },
   "source": [
    "#### Table A\n",
    "\n",
    "|  9 / 4 | *evaluates to* | 2.25 |\n",
    "|--------|----------------|------|\n",
    "| 10 / 4 | *evaluates to* | 2.5  |\n",
    "| 11 / 4 | *evaluates to* | 2.75 |\n",
    "| 12 / 4 | *evaluates to* | 3.0  |\n",
    "| 13 / 4 | *evaluates to* | 3.25 |\n",
    "| 14 / 4 | *evaluates to* | 3.5  |\n",
    "| 15 / 4 | *evaluates to* | 3.75 |\n",
    "| 16 / 4 | *evaluates to* | 4.0  |"
   ]
  },
  {
   "cell_type": "markdown",
   "metadata": {
    "id": "3YqBnREwwccl"
   },
   "source": [
    "#### Table B\n",
    "\n",
    "|  9 // 4 | *evaluates to* | 2 |\n",
    "|---------|----------------|---|\n",
    "| 10 // 4 | *evaluates to* | 2 |\n",
    "| 11 // 4 | *evaluates to* | 2 |\n",
    "| 12 // 4 | *evaluates to* | 3 |\n",
    "| 13 // 4 | *evaluates to* | 3 |\n",
    "| 14 // 4 | *evaluates to* | 3 |\n",
    "| 15 // 4 | *evaluates to* | 3 |\n",
    "| 16 // 4 | *evaluates to* | 4 |"
   ]
  },
  {
   "cell_type": "markdown",
   "metadata": {
    "id": "nJIsVe31wweM"
   },
   "source": [
    "#### Table C\n",
    "\n",
    "|  9 % 4 | *evaluates to* | 1 |\n",
    "|--------|----------------|---|\n",
    "| 10 % 4 | *evaluates to* | 2 |\n",
    "| 11 % 4 | *evaluates to* | 3 |\n",
    "| 12 % 4 | *evaluates to* | 0 |\n",
    "| 13 % 4 | *evaluates to* | 1 |\n",
    "| 14 % 4 | *evaluates to* | 2 |\n",
    "| 15 % 4 | *evaluates to* | 3 |\n",
    "| 16 % 4 | *evaluates to* | 0 |"
   ]
  },
  {
   "cell_type": "markdown",
   "metadata": {
    "id": "oOflzmzjvqpM"
   },
   "source": [
    "### Task 1"
   ]
  },
  {
   "cell_type": "markdown",
   "metadata": {
    "id": "N8WR3rTCw91l"
   },
   "source": [
    "**For each operator in the above three tables, identify the symbol and describe the type of numerical result.**"
   ]
  },
  {
   "cell_type": "markdown",
   "metadata": {
    "id": "Rjr9nGUExH-n"
   },
   "source": []
  },
  {
   "cell_type": "markdown",
   "metadata": {
    "id": "9WQU52zMxITg"
   },
   "source": [
    "### Task 2"
   ]
  },
  {
   "cell_type": "markdown",
   "metadata": {
    "id": "9n9vZy2FxKOY"
   },
   "source": [
    "**If the result of the `/` operator were rounded to the nearest integer, would this be the same as the result of the `//` operator? Explain how the results in Table A compare to Table B.**"
   ]
  },
  {
   "cell_type": "markdown",
   "metadata": {
    "id": "7P7RqmVfxSqV"
   },
   "source": []
  },
  {
   "cell_type": "markdown",
   "metadata": {
    "id": "3usr4ZmuxTAF"
   },
   "source": [
    "### Task 3"
   ]
  },
  {
   "cell_type": "markdown",
   "metadata": {
    "id": "ZOxZCJ3TxUlx"
   },
   "source": [
    "**If the table included more rows, list all numbers where `// 4` would evaluate to 2 and all the numbers where `// 4` would evaluate to 4.**"
   ]
  },
  {
   "cell_type": "markdown",
   "metadata": {
    "id": "cg4a2oddxeEP"
   },
   "source": []
  },
  {
   "cell_type": "markdown",
   "metadata": {
    "id": "zFD6jjJwxeWU"
   },
   "source": [
    "### Task 4"
   ]
  },
  {
   "cell_type": "markdown",
   "metadata": {
    "id": "sshkYyv_xfi7"
   },
   "source": [
    "**Consider the expressions in Table C that evaluate to 1. How do the left *operands* in these expressions differ from those that evaluate to 0?**"
   ]
  },
  {
   "cell_type": "markdown",
   "metadata": {
    "id": "8_C3PCFDxnIU"
   },
   "source": []
  },
  {
   "cell_type": "markdown",
   "metadata": {
    "id": "iJ8KeSbjxni6"
   },
   "source": [
    "### Task 5"
   ]
  },
  {
   "cell_type": "markdown",
   "metadata": {
    "id": "wVLiPSxWxo1j"
   },
   "source": [
    "**Describe the reason for the repeated sequence of numbers (0, 1, 2, 3) for the result of `% 4`.**"
   ]
  },
  {
   "cell_type": "markdown",
   "metadata": {
    "id": "sMNgP5YbxupH"
   },
   "source": []
  },
  {
   "cell_type": "markdown",
   "metadata": {
    "id": "rVS6ZUpDxvI8"
   },
   "source": [
    "### Task 6"
   ]
  },
  {
   "cell_type": "markdown",
   "metadata": {
    "id": "_27wQu0Sx28w"
   },
   "source": [
    "**Recall how you did long division in elementary school. Finish solving for 79 $\\div$ 5 below. Which part of the answer is `79 // 5`, and which part is `79 % 5`?**"
   ]
  },
  {
   "cell_type": "markdown",
   "metadata": {
    "id": "qtNBqB9k1Y1T"
   },
   "source": []
  },
  {
   "cell_type": "markdown",
   "metadata": {
    "id": "vwMuH6Vi1ZF2"
   },
   "source": [
    "### Task 7"
   ]
  },
  {
   "cell_type": "markdown",
   "metadata": {
    "id": "kxrulPuP1ck-"
   },
   "source": [
    "**Imagine that you are given candy mints to divide evenly among your team members.**\n",
    "\n",
    "**If your team receives 11 mints, how many mints would each student get, and how many are left over? Write a Python expression to compute and print each result.**"
   ]
  },
  {
   "cell_type": "code",
   "execution_count": null,
   "metadata": {
    "id": "a-yTHMmm1oig"
   },
   "outputs": [],
   "source": []
  },
  {
   "cell_type": "markdown",
   "metadata": {
    "id": "qq7RT7AR1nHl"
   },
   "source": [
    "**If your team receives 2 mints, how many mints would each student get, and how many are left over? Write a Python expression to compute and print each result.**"
   ]
  },
  {
   "cell_type": "code",
   "execution_count": null,
   "metadata": {
    "id": "XggjUX6j1zKf"
   },
   "outputs": [],
   "source": []
  },
  {
   "cell_type": "markdown",
   "metadata": {
    "id": "Bzc4cXTq1zbT"
   },
   "source": [
    "### Task 8"
   ]
  },
  {
   "cell_type": "markdown",
   "metadata": {
    "id": "aJTKWbdq12M4"
   },
   "source": [
    "**Python has three division operators: floor division, true division, and modulo. Which operator corresponds to each name?**"
   ]
  },
  {
   "cell_type": "markdown",
   "metadata": {
    "id": "Anszqv3a18yy"
   },
   "source": []
  },
  {
   "cell_type": "markdown",
   "metadata": {
    "id": "sIoLBb4hqQ8f"
   },
   "source": [
    "Every value in Python has a data type, which determines what can be done with the data. For numbers, there are three primary data types.\n",
    "\n",
    "- `int` variables can only hold whole numbers\n",
    "- `float` variables can hold decimals\n",
    "- `complex` variables can hold complex numbers (recall from algebra how $i = \\sqrt{-1}$)"
   ]
  },
  {
   "cell_type": "markdown",
   "id": "5a62e21f",
   "metadata": {},
   "source": [
    "## Section 3"
   ]
  },
  {
   "cell_type": "markdown",
   "metadata": {
    "id": "Nfy27xx8p_Am"
   },
   "source": [
    "### Task 1"
   ]
  },
  {
   "cell_type": "markdown",
   "metadata": {
    "id": "P3ZxyihTqDdC"
   },
   "source": [
    "**In the following lines, write the output (not necessarily the data type) of the following Python lines. If any outputs surprise you, note the output and what you expected to get.**"
   ]
  },
  {
   "cell_type": "code",
   "execution_count": null,
   "metadata": {
    "id": "xsd4w93brPa-"
   },
   "outputs": [],
   "source": [
    "integer = 3"
   ]
  },
  {
   "cell_type": "markdown",
   "metadata": {
    "id": "QEoP4NpArZgR"
   },
   "source": []
  },
  {
   "cell_type": "code",
   "execution_count": null,
   "metadata": {
    "id": "mcsS3dYUrZ0k"
   },
   "outputs": [],
   "source": [
    "print(type(integer))"
   ]
  },
  {
   "cell_type": "markdown",
   "metadata": {
    "id": "UXV8PbUxrcAq"
   },
   "source": []
  },
  {
   "cell_type": "code",
   "execution_count": null,
   "metadata": {
    "id": "VXOvQB12rcTO"
   },
   "outputs": [],
   "source": [
    "print(type(\"integer\"))"
   ]
  },
  {
   "cell_type": "markdown",
   "metadata": {
    "id": "mpWZ4I0Wrej-"
   },
   "source": []
  },
  {
   "cell_type": "code",
   "execution_count": null,
   "metadata": {
    "id": "GYwGlRy0re2N"
   },
   "outputs": [],
   "source": [
    "pi = 3.1415"
   ]
  },
  {
   "cell_type": "markdown",
   "metadata": {
    "id": "5BD9xlwirhN2"
   },
   "source": []
  },
  {
   "cell_type": "code",
   "execution_count": null,
   "metadata": {
    "id": "_7l9RjTnrhg2"
   },
   "outputs": [],
   "source": [
    "print(type(pi))"
   ]
  },
  {
   "cell_type": "markdown",
   "metadata": {
    "id": "pkaIN9vnrjLG"
   },
   "source": []
  },
  {
   "cell_type": "code",
   "execution_count": null,
   "metadata": {
    "id": "jVBQYYcCrjgG"
   },
   "outputs": [],
   "source": [
    "word = str(pi)"
   ]
  },
  {
   "cell_type": "markdown",
   "metadata": {
    "id": "ycALUJXVrnUa"
   },
   "source": []
  },
  {
   "cell_type": "code",
   "execution_count": null,
   "metadata": {
    "id": "udzLclCCrnsq"
   },
   "outputs": [],
   "source": [
    "print(word)"
   ]
  },
  {
   "cell_type": "markdown",
   "metadata": {
    "id": "wbbuRkSMrrDM"
   },
   "source": []
  },
  {
   "cell_type": "code",
   "execution_count": null,
   "metadata": {
    "id": "E6HlrzgQrrkL"
   },
   "outputs": [],
   "source": [
    "number = float(word)"
   ]
  },
  {
   "cell_type": "markdown",
   "metadata": {
    "id": "urhJWcDqrtm8"
   },
   "source": []
  },
  {
   "cell_type": "code",
   "execution_count": null,
   "metadata": {
    "id": "kWkteu1Grt5M"
   },
   "outputs": [],
   "source": [
    "print(word * 2)"
   ]
  },
  {
   "cell_type": "markdown",
   "metadata": {
    "id": "nKs8_nkMrwGo"
   },
   "source": []
  },
  {
   "cell_type": "code",
   "execution_count": null,
   "metadata": {
    "id": "5dT1qdF8rwbN"
   },
   "outputs": [],
   "source": [
    "print(number * 2)"
   ]
  },
  {
   "cell_type": "markdown",
   "metadata": {
    "id": "MBMaeJLNrySz"
   },
   "source": []
  },
  {
   "cell_type": "code",
   "execution_count": null,
   "metadata": {
    "id": "m4aNKOdwryid"
   },
   "outputs": [],
   "source": [
    "print(word + 2)"
   ]
  },
  {
   "cell_type": "markdown",
   "metadata": {
    "id": "2LI19RMgr0fH"
   },
   "source": []
  },
  {
   "cell_type": "code",
   "execution_count": null,
   "metadata": {
    "id": "MY-y-63jr0w_"
   },
   "outputs": [],
   "source": [
    "print(number + 2)"
   ]
  },
  {
   "cell_type": "markdown",
   "metadata": {
    "id": "Eo1cpIdbr2sd"
   },
   "source": []
  },
  {
   "cell_type": "code",
   "execution_count": null,
   "metadata": {
    "id": "5-PZj2wgr2-F"
   },
   "outputs": [],
   "source": [
    "euler = 2.7182"
   ]
  },
  {
   "cell_type": "markdown",
   "metadata": {
    "id": "0q5dNeFFr581"
   },
   "source": []
  },
  {
   "cell_type": "code",
   "execution_count": null,
   "metadata": {
    "id": "8Wz4Kziyr6TH"
   },
   "outputs": [],
   "source": [
    "print(int(euler))"
   ]
  },
  {
   "cell_type": "markdown",
   "metadata": {
    "id": "MYPaubKir9g_"
   },
   "source": []
  },
  {
   "cell_type": "code",
   "execution_count": null,
   "metadata": {
    "id": "S4CR_Mptr91N"
   },
   "outputs": [],
   "source": [
    "print(round(euler))"
   ]
  },
  {
   "cell_type": "markdown",
   "metadata": {
    "id": "0VCrNcXNr_on"
   },
   "source": []
  },
  {
   "cell_type": "markdown",
   "metadata": {
    "id": "Eq42evlDr_6A"
   },
   "source": [
    "### Task 2"
   ]
  },
  {
   "cell_type": "markdown",
   "metadata": {
    "id": "BbTpKlwHs4hd"
   },
   "source": [
    "**What is the data type (`int`, `float`, `str`) of the following values? If you're unsure, use the `type()` function in a Python shell, as shown above.**\n",
    "\n",
    "**`pi`**"
   ]
  },
  {
   "cell_type": "markdown",
   "metadata": {
    "id": "ZuJ3v6AHtDhF"
   },
   "source": []
  },
  {
   "cell_type": "markdown",
   "metadata": {
    "id": "gBvyKiUvtD-I"
   },
   "source": [
    "**`integer`**"
   ]
  },
  {
   "cell_type": "markdown",
   "metadata": {
    "id": "Zs6FobiAtGiY"
   },
   "source": []
  },
  {
   "cell_type": "markdown",
   "metadata": {
    "id": "sCzpLbWKtG1U"
   },
   "source": [
    "**`word`**"
   ]
  },
  {
   "cell_type": "markdown",
   "metadata": {
    "id": "D1BXZSqbtIa8"
   },
   "source": []
  },
  {
   "cell_type": "markdown",
   "metadata": {
    "id": "qeXUPKivtIwG"
   },
   "source": [
    "**`number`**"
   ]
  },
  {
   "cell_type": "markdown",
   "metadata": {
    "id": "bdCu0SoptKaU"
   },
   "source": []
  },
  {
   "cell_type": "markdown",
   "metadata": {
    "id": "zWX_JF8mtMPQ"
   },
   "source": [
    "### Task 3"
   ]
  },
  {
   "cell_type": "markdown",
   "metadata": {
    "id": "erv1Y9yEtN1c"
   },
   "source": [
    "**Sometimes, you need to convert a value to a new datatype. Programmers call this *typecasting*. List the function calls that convert a value to a new data type.**\n",
    "\n",
    "*Hint: You saw this in Task 1. There are three calls that we're looking for.*"
   ]
  },
  {
   "cell_type": "markdown",
   "metadata": {
    "id": "Zysj9aK1tdlH"
   },
   "source": []
  },
  {
   "cell_type": "markdown",
   "metadata": {
    "id": "lLr8xXwoteDg"
   },
   "source": [
    "### Task 4"
   ]
  },
  {
   "cell_type": "markdown",
   "metadata": {
    "id": "s1QpC0kIthZJ"
   },
   "source": [
    "**How does the behavior of the operators `+` and `*` depend on the data type?**"
   ]
  },
  {
   "cell_type": "markdown",
   "metadata": {
    "id": "-EGXCB13tnLe"
   },
   "source": []
  },
  {
   "cell_type": "markdown",
   "metadata": {
    "id": "AXsiHouBtnkK"
   },
   "source": [
    "### Task 5"
   ]
  },
  {
   "cell_type": "markdown",
   "metadata": {
    "id": "i9ckrBhFtxVW"
   },
   "source": [
    "**Run the following code.**"
   ]
  },
  {
   "cell_type": "code",
   "execution_count": null,
   "metadata": {
    "id": "Jfbo1LkRtz6G"
   },
   "outputs": [],
   "source": [
    "print(int(1))\n",
    "print(int(1.1311))\n",
    "print(int(6.322))\n",
    "print(int(7.9993))\n",
    "print(int(55.832))\n",
    "print(round(1))\n",
    "print(round(1.1311))\n",
    "print(round(6.322))\n",
    "print(round(7.9993))\n",
    "print(int(55.832))"
   ]
  },
  {
   "cell_type": "markdown",
   "metadata": {
    "id": "BAKAlneStpEA"
   },
   "source": [
    "**What is the difference between the `int` function and the `round` function?**"
   ]
  },
  {
   "cell_type": "markdown",
   "metadata": {
    "id": "r1sr_LNMtvDm"
   },
   "source": []
  },
  {
   "cell_type": "markdown",
   "metadata": {
    "id": "j0He5FUKuMzq"
   },
   "source": [
    "### Task 6"
   ]
  },
  {
   "cell_type": "markdown",
   "metadata": {
    "id": "i_hnK75SuOKH"
   },
   "source": [
    "**In the below code block, run the following code.**"
   ]
  },
  {
   "cell_type": "code",
   "execution_count": null,
   "metadata": {
    "id": "I9fP85AtuU3V"
   },
   "outputs": [],
   "source": [
    "print(3 + 3 + 3)\n",
    "print(.3 + .3 + .3)"
   ]
  },
  {
   "cell_type": "markdown",
   "metadata": {
    "id": "ZMGQLG1TuYXM"
   },
   "source": [
    "**What is the difference between these two lines and their output? What is the actual output of each lines?**"
   ]
  },
  {
   "cell_type": "markdown",
   "metadata": {
    "id": "ysCOIf33ujeO"
   },
   "source": []
  },
  {
   "cell_type": "markdown",
   "metadata": {
    "id": "auHJphhnus_E"
   },
   "source": [
    "**Given that, what data type do you need to store a number with 100% accuracy?**"
   ]
  },
  {
   "cell_type": "markdown",
   "metadata": {
    "id": "VSKDQlJPu0Y1"
   },
   "source": []
  },
  {
   "cell_type": "markdown",
   "metadata": {
    "id": "PoOWLIF7ujzb"
   },
   "source": [
    "### Task 7"
   ]
  },
  {
   "cell_type": "markdown",
   "metadata": {
    "id": "2eo9miVqupuT"
   },
   "source": [
    "**If you were explicitly typecasting the following variables, what data type would you use to store the following data? Justify your answers.**"
   ]
  },
  {
   "cell_type": "markdown",
   "metadata": {
    "id": "pDHCUzYXvC4c"
   },
   "source": [
    "`price`"
   ]
  },
  {
   "cell_type": "markdown",
   "metadata": {
    "id": "a9wuI0xjvGLF"
   },
   "source": []
  },
  {
   "cell_type": "markdown",
   "metadata": {
    "id": "65K-oPRZvGjr"
   },
   "source": [
    "`numOfFish`"
   ]
  },
  {
   "cell_type": "markdown",
   "metadata": {
    "id": "u6t7CkGDvKB7"
   },
   "source": []
  },
  {
   "cell_type": "markdown",
   "metadata": {
    "id": "-pcEXMl3vKUn"
   },
   "source": [
    "`pears`"
   ]
  },
  {
   "cell_type": "markdown",
   "metadata": {
    "id": "uhvCXah0vOhq"
   },
   "source": []
  },
  {
   "cell_type": "markdown",
   "metadata": {
    "id": "9fg6Y8gJvPEN"
   },
   "source": [
    "`mass`"
   ]
  },
  {
   "cell_type": "markdown",
   "metadata": {
    "id": "9QIqBxpwvQc_"
   },
   "source": []
  },
  {
   "cell_type": "markdown",
   "metadata": {
    "id": "lyEVf07WvRZZ"
   },
   "source": [
    "### Task 8"
   ]
  },
  {
   "cell_type": "markdown",
   "metadata": {
    "id": "LCu5bCKXvSvH"
   },
   "source": [
    "**In another tab, go to [this demo code](https://repl.it/@SejinKim1/IntFloatSimPython) and run it.**\n",
    "\n",
    "*If that code doesn't work, go to [this demo code](https://repl.it/@SejinKim1/IntFloatSimProcessing), which uses Processing instead of Python.*\n",
    "\n",
    "**You don't need to understand what any of this code is (yet).**\n",
    "\n",
    "*This code unfortunately cannot be run in Colab, since there's no support for Tkinter.*"
   ]
  },
  {
   "cell_type": "markdown",
   "metadata": {
    "id": "MMLOBLgs1RKw"
   },
   "source": [
    "**The program that you just runs is simulating the difference in computing time between a `float` (on the top) and an `integer` (on the bottom). What differences did you notice?**"
   ]
  },
  {
   "cell_type": "markdown",
   "metadata": {
    "id": "ciqhxQZV3Ysn"
   },
   "source": []
  },
  {
   "cell_type": "markdown",
   "metadata": {
    "id": "dmMQcmkJ3cQj"
   },
   "source": [
    "### Task 9"
   ]
  },
  {
   "cell_type": "markdown",
   "metadata": {
    "id": "ErkHsaZm3diu"
   },
   "source": [
    "**Summarize the difference between the two primary numeric datatypes: `int`s and `float`s. What are their pros and cons?**"
   ]
  },
  {
   "cell_type": "markdown",
   "metadata": {
    "id": "MENOqDYP3m2N"
   },
   "source": []
  },
  {
   "cell_type": "markdown",
   "metadata": {
    "id": "19zwFasR3nTk"
   },
   "source": [
    "---\n",
    "\n",
    "End of exercise."
   ]
  }
 ],
 "metadata": {
  "kernelspec": {
   "display_name": "Python 3 (ipykernel)",
   "language": "python",
   "name": "python3"
  },
  "language_info": {
   "codemirror_mode": {
    "name": "ipython",
    "version": 3
   },
   "file_extension": ".py",
   "mimetype": "text/x-python",
   "name": "python",
   "nbconvert_exporter": "python",
   "pygments_lexer": "ipython3",
   "version": "3.10.2"
  }
 },
 "nbformat": 4,
 "nbformat_minor": 5
}
